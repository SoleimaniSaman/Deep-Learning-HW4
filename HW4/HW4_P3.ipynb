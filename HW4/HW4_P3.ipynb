{
  "nbformat": 4,
  "nbformat_minor": 0,
  "metadata": {
    "colab": {
      "provenance": []
    },
    "kernelspec": {
      "name": "python3",
      "display_name": "Python 3"
    },
    "language_info": {
      "name": "python"
    },
    "accelerator": "GPU",
    "gpuClass": "standard",
    "widgets": {
      "application/vnd.jupyter.widget-state+json": {
        "013bab335ebc45d781d4451cc87179d7": {
          "model_module": "@jupyter-widgets/controls",
          "model_name": "HBoxModel",
          "model_module_version": "1.5.0",
          "state": {
            "_dom_classes": [],
            "_model_module": "@jupyter-widgets/controls",
            "_model_module_version": "1.5.0",
            "_model_name": "HBoxModel",
            "_view_count": null,
            "_view_module": "@jupyter-widgets/controls",
            "_view_module_version": "1.5.0",
            "_view_name": "HBoxView",
            "box_style": "",
            "children": [
              "IPY_MODEL_75f485716f6a463c85137549a58a7680",
              "IPY_MODEL_c9797bae3f4f44869b43a17d7966afee",
              "IPY_MODEL_b1f4b34c7f784ffca0d7509eb65c2673"
            ],
            "layout": "IPY_MODEL_fb6e293d18be41149d440396443dd7bb"
          }
        },
        "75f485716f6a463c85137549a58a7680": {
          "model_module": "@jupyter-widgets/controls",
          "model_name": "HTMLModel",
          "model_module_version": "1.5.0",
          "state": {
            "_dom_classes": [],
            "_model_module": "@jupyter-widgets/controls",
            "_model_module_version": "1.5.0",
            "_model_name": "HTMLModel",
            "_view_count": null,
            "_view_module": "@jupyter-widgets/controls",
            "_view_module_version": "1.5.0",
            "_view_name": "HTMLView",
            "description": "",
            "description_tooltip": null,
            "layout": "IPY_MODEL_0a90a0e6d5604b4ea6f9e4a905b607c5",
            "placeholder": "​",
            "style": "IPY_MODEL_b2703e8379d34a8189d3a3dce26a7d62",
            "value": "Downloading (…)lve/main/config.json: 100%"
          }
        },
        "c9797bae3f4f44869b43a17d7966afee": {
          "model_module": "@jupyter-widgets/controls",
          "model_name": "FloatProgressModel",
          "model_module_version": "1.5.0",
          "state": {
            "_dom_classes": [],
            "_model_module": "@jupyter-widgets/controls",
            "_model_module_version": "1.5.0",
            "_model_name": "FloatProgressModel",
            "_view_count": null,
            "_view_module": "@jupyter-widgets/controls",
            "_view_module_version": "1.5.0",
            "_view_name": "ProgressView",
            "bar_style": "success",
            "description": "",
            "description_tooltip": null,
            "layout": "IPY_MODEL_ffa56d851ab542088c113d6a75006e60",
            "max": 440,
            "min": 0,
            "orientation": "horizontal",
            "style": "IPY_MODEL_b92f2899fe604f1d8c02b3cf7bf36c21",
            "value": 440
          }
        },
        "b1f4b34c7f784ffca0d7509eb65c2673": {
          "model_module": "@jupyter-widgets/controls",
          "model_name": "HTMLModel",
          "model_module_version": "1.5.0",
          "state": {
            "_dom_classes": [],
            "_model_module": "@jupyter-widgets/controls",
            "_model_module_version": "1.5.0",
            "_model_name": "HTMLModel",
            "_view_count": null,
            "_view_module": "@jupyter-widgets/controls",
            "_view_module_version": "1.5.0",
            "_view_name": "HTMLView",
            "description": "",
            "description_tooltip": null,
            "layout": "IPY_MODEL_6180841bf3d74ce8a74cd8813bb03d82",
            "placeholder": "​",
            "style": "IPY_MODEL_8c2abfef10914212aef0f1e71e3dee0a",
            "value": " 440/440 [00:00&lt;00:00, 18.9kB/s]"
          }
        },
        "fb6e293d18be41149d440396443dd7bb": {
          "model_module": "@jupyter-widgets/base",
          "model_name": "LayoutModel",
          "model_module_version": "1.2.0",
          "state": {
            "_model_module": "@jupyter-widgets/base",
            "_model_module_version": "1.2.0",
            "_model_name": "LayoutModel",
            "_view_count": null,
            "_view_module": "@jupyter-widgets/base",
            "_view_module_version": "1.2.0",
            "_view_name": "LayoutView",
            "align_content": null,
            "align_items": null,
            "align_self": null,
            "border": null,
            "bottom": null,
            "display": null,
            "flex": null,
            "flex_flow": null,
            "grid_area": null,
            "grid_auto_columns": null,
            "grid_auto_flow": null,
            "grid_auto_rows": null,
            "grid_column": null,
            "grid_gap": null,
            "grid_row": null,
            "grid_template_areas": null,
            "grid_template_columns": null,
            "grid_template_rows": null,
            "height": null,
            "justify_content": null,
            "justify_items": null,
            "left": null,
            "margin": null,
            "max_height": null,
            "max_width": null,
            "min_height": null,
            "min_width": null,
            "object_fit": null,
            "object_position": null,
            "order": null,
            "overflow": null,
            "overflow_x": null,
            "overflow_y": null,
            "padding": null,
            "right": null,
            "top": null,
            "visibility": null,
            "width": null
          }
        },
        "0a90a0e6d5604b4ea6f9e4a905b607c5": {
          "model_module": "@jupyter-widgets/base",
          "model_name": "LayoutModel",
          "model_module_version": "1.2.0",
          "state": {
            "_model_module": "@jupyter-widgets/base",
            "_model_module_version": "1.2.0",
            "_model_name": "LayoutModel",
            "_view_count": null,
            "_view_module": "@jupyter-widgets/base",
            "_view_module_version": "1.2.0",
            "_view_name": "LayoutView",
            "align_content": null,
            "align_items": null,
            "align_self": null,
            "border": null,
            "bottom": null,
            "display": null,
            "flex": null,
            "flex_flow": null,
            "grid_area": null,
            "grid_auto_columns": null,
            "grid_auto_flow": null,
            "grid_auto_rows": null,
            "grid_column": null,
            "grid_gap": null,
            "grid_row": null,
            "grid_template_areas": null,
            "grid_template_columns": null,
            "grid_template_rows": null,
            "height": null,
            "justify_content": null,
            "justify_items": null,
            "left": null,
            "margin": null,
            "max_height": null,
            "max_width": null,
            "min_height": null,
            "min_width": null,
            "object_fit": null,
            "object_position": null,
            "order": null,
            "overflow": null,
            "overflow_x": null,
            "overflow_y": null,
            "padding": null,
            "right": null,
            "top": null,
            "visibility": null,
            "width": null
          }
        },
        "b2703e8379d34a8189d3a3dce26a7d62": {
          "model_module": "@jupyter-widgets/controls",
          "model_name": "DescriptionStyleModel",
          "model_module_version": "1.5.0",
          "state": {
            "_model_module": "@jupyter-widgets/controls",
            "_model_module_version": "1.5.0",
            "_model_name": "DescriptionStyleModel",
            "_view_count": null,
            "_view_module": "@jupyter-widgets/base",
            "_view_module_version": "1.2.0",
            "_view_name": "StyleView",
            "description_width": ""
          }
        },
        "ffa56d851ab542088c113d6a75006e60": {
          "model_module": "@jupyter-widgets/base",
          "model_name": "LayoutModel",
          "model_module_version": "1.2.0",
          "state": {
            "_model_module": "@jupyter-widgets/base",
            "_model_module_version": "1.2.0",
            "_model_name": "LayoutModel",
            "_view_count": null,
            "_view_module": "@jupyter-widgets/base",
            "_view_module_version": "1.2.0",
            "_view_name": "LayoutView",
            "align_content": null,
            "align_items": null,
            "align_self": null,
            "border": null,
            "bottom": null,
            "display": null,
            "flex": null,
            "flex_flow": null,
            "grid_area": null,
            "grid_auto_columns": null,
            "grid_auto_flow": null,
            "grid_auto_rows": null,
            "grid_column": null,
            "grid_gap": null,
            "grid_row": null,
            "grid_template_areas": null,
            "grid_template_columns": null,
            "grid_template_rows": null,
            "height": null,
            "justify_content": null,
            "justify_items": null,
            "left": null,
            "margin": null,
            "max_height": null,
            "max_width": null,
            "min_height": null,
            "min_width": null,
            "object_fit": null,
            "object_position": null,
            "order": null,
            "overflow": null,
            "overflow_x": null,
            "overflow_y": null,
            "padding": null,
            "right": null,
            "top": null,
            "visibility": null,
            "width": null
          }
        },
        "b92f2899fe604f1d8c02b3cf7bf36c21": {
          "model_module": "@jupyter-widgets/controls",
          "model_name": "ProgressStyleModel",
          "model_module_version": "1.5.0",
          "state": {
            "_model_module": "@jupyter-widgets/controls",
            "_model_module_version": "1.5.0",
            "_model_name": "ProgressStyleModel",
            "_view_count": null,
            "_view_module": "@jupyter-widgets/base",
            "_view_module_version": "1.2.0",
            "_view_name": "StyleView",
            "bar_color": null,
            "description_width": ""
          }
        },
        "6180841bf3d74ce8a74cd8813bb03d82": {
          "model_module": "@jupyter-widgets/base",
          "model_name": "LayoutModel",
          "model_module_version": "1.2.0",
          "state": {
            "_model_module": "@jupyter-widgets/base",
            "_model_module_version": "1.2.0",
            "_model_name": "LayoutModel",
            "_view_count": null,
            "_view_module": "@jupyter-widgets/base",
            "_view_module_version": "1.2.0",
            "_view_name": "LayoutView",
            "align_content": null,
            "align_items": null,
            "align_self": null,
            "border": null,
            "bottom": null,
            "display": null,
            "flex": null,
            "flex_flow": null,
            "grid_area": null,
            "grid_auto_columns": null,
            "grid_auto_flow": null,
            "grid_auto_rows": null,
            "grid_column": null,
            "grid_gap": null,
            "grid_row": null,
            "grid_template_areas": null,
            "grid_template_columns": null,
            "grid_template_rows": null,
            "height": null,
            "justify_content": null,
            "justify_items": null,
            "left": null,
            "margin": null,
            "max_height": null,
            "max_width": null,
            "min_height": null,
            "min_width": null,
            "object_fit": null,
            "object_position": null,
            "order": null,
            "overflow": null,
            "overflow_x": null,
            "overflow_y": null,
            "padding": null,
            "right": null,
            "top": null,
            "visibility": null,
            "width": null
          }
        },
        "8c2abfef10914212aef0f1e71e3dee0a": {
          "model_module": "@jupyter-widgets/controls",
          "model_name": "DescriptionStyleModel",
          "model_module_version": "1.5.0",
          "state": {
            "_model_module": "@jupyter-widgets/controls",
            "_model_module_version": "1.5.0",
            "_model_name": "DescriptionStyleModel",
            "_view_count": null,
            "_view_module": "@jupyter-widgets/base",
            "_view_module_version": "1.2.0",
            "_view_name": "StyleView",
            "description_width": ""
          }
        },
        "e46a61305af145dfa0961bf3e76f16db": {
          "model_module": "@jupyter-widgets/controls",
          "model_name": "HBoxModel",
          "model_module_version": "1.5.0",
          "state": {
            "_dom_classes": [],
            "_model_module": "@jupyter-widgets/controls",
            "_model_module_version": "1.5.0",
            "_model_name": "HBoxModel",
            "_view_count": null,
            "_view_module": "@jupyter-widgets/controls",
            "_view_module_version": "1.5.0",
            "_view_name": "HBoxView",
            "box_style": "",
            "children": [
              "IPY_MODEL_6c294f3fb98444d69628964a8ffbbf71",
              "IPY_MODEL_4603ca5a3c004e82ba6cd8326ca80fd7",
              "IPY_MODEL_1b60190cd7254ba1a045e7c850702bc0"
            ],
            "layout": "IPY_MODEL_2b4974436b7d4526a42da170791981d2"
          }
        },
        "6c294f3fb98444d69628964a8ffbbf71": {
          "model_module": "@jupyter-widgets/controls",
          "model_name": "HTMLModel",
          "model_module_version": "1.5.0",
          "state": {
            "_dom_classes": [],
            "_model_module": "@jupyter-widgets/controls",
            "_model_module_version": "1.5.0",
            "_model_name": "HTMLModel",
            "_view_count": null,
            "_view_module": "@jupyter-widgets/controls",
            "_view_module_version": "1.5.0",
            "_view_name": "HTMLView",
            "description": "",
            "description_tooltip": null,
            "layout": "IPY_MODEL_982e62081bc44af98b1ca62a0859ba54",
            "placeholder": "​",
            "style": "IPY_MODEL_6d9ddb15f43340acbc32ce9eb4c2da53",
            "value": "Downloading (…)solve/main/vocab.txt: 100%"
          }
        },
        "4603ca5a3c004e82ba6cd8326ca80fd7": {
          "model_module": "@jupyter-widgets/controls",
          "model_name": "FloatProgressModel",
          "model_module_version": "1.5.0",
          "state": {
            "_dom_classes": [],
            "_model_module": "@jupyter-widgets/controls",
            "_model_module_version": "1.5.0",
            "_model_name": "FloatProgressModel",
            "_view_count": null,
            "_view_module": "@jupyter-widgets/controls",
            "_view_module_version": "1.5.0",
            "_view_name": "ProgressView",
            "bar_style": "success",
            "description": "",
            "description_tooltip": null,
            "layout": "IPY_MODEL_4ee98eb481f04be5960c00d4dad203b8",
            "max": 1198122,
            "min": 0,
            "orientation": "horizontal",
            "style": "IPY_MODEL_bb22d64393944a099d9b667df923db61",
            "value": 1198122
          }
        },
        "1b60190cd7254ba1a045e7c850702bc0": {
          "model_module": "@jupyter-widgets/controls",
          "model_name": "HTMLModel",
          "model_module_version": "1.5.0",
          "state": {
            "_dom_classes": [],
            "_model_module": "@jupyter-widgets/controls",
            "_model_module_version": "1.5.0",
            "_model_name": "HTMLModel",
            "_view_count": null,
            "_view_module": "@jupyter-widgets/controls",
            "_view_module_version": "1.5.0",
            "_view_name": "HTMLView",
            "description": "",
            "description_tooltip": null,
            "layout": "IPY_MODEL_0c2c5fd7bcb64d1292e0449a9413109f",
            "placeholder": "​",
            "style": "IPY_MODEL_c5704db636e442478550494a80279fda",
            "value": " 1.20M/1.20M [00:00&lt;00:00, 2.33MB/s]"
          }
        },
        "2b4974436b7d4526a42da170791981d2": {
          "model_module": "@jupyter-widgets/base",
          "model_name": "LayoutModel",
          "model_module_version": "1.2.0",
          "state": {
            "_model_module": "@jupyter-widgets/base",
            "_model_module_version": "1.2.0",
            "_model_name": "LayoutModel",
            "_view_count": null,
            "_view_module": "@jupyter-widgets/base",
            "_view_module_version": "1.2.0",
            "_view_name": "LayoutView",
            "align_content": null,
            "align_items": null,
            "align_self": null,
            "border": null,
            "bottom": null,
            "display": null,
            "flex": null,
            "flex_flow": null,
            "grid_area": null,
            "grid_auto_columns": null,
            "grid_auto_flow": null,
            "grid_auto_rows": null,
            "grid_column": null,
            "grid_gap": null,
            "grid_row": null,
            "grid_template_areas": null,
            "grid_template_columns": null,
            "grid_template_rows": null,
            "height": null,
            "justify_content": null,
            "justify_items": null,
            "left": null,
            "margin": null,
            "max_height": null,
            "max_width": null,
            "min_height": null,
            "min_width": null,
            "object_fit": null,
            "object_position": null,
            "order": null,
            "overflow": null,
            "overflow_x": null,
            "overflow_y": null,
            "padding": null,
            "right": null,
            "top": null,
            "visibility": null,
            "width": null
          }
        },
        "982e62081bc44af98b1ca62a0859ba54": {
          "model_module": "@jupyter-widgets/base",
          "model_name": "LayoutModel",
          "model_module_version": "1.2.0",
          "state": {
            "_model_module": "@jupyter-widgets/base",
            "_model_module_version": "1.2.0",
            "_model_name": "LayoutModel",
            "_view_count": null,
            "_view_module": "@jupyter-widgets/base",
            "_view_module_version": "1.2.0",
            "_view_name": "LayoutView",
            "align_content": null,
            "align_items": null,
            "align_self": null,
            "border": null,
            "bottom": null,
            "display": null,
            "flex": null,
            "flex_flow": null,
            "grid_area": null,
            "grid_auto_columns": null,
            "grid_auto_flow": null,
            "grid_auto_rows": null,
            "grid_column": null,
            "grid_gap": null,
            "grid_row": null,
            "grid_template_areas": null,
            "grid_template_columns": null,
            "grid_template_rows": null,
            "height": null,
            "justify_content": null,
            "justify_items": null,
            "left": null,
            "margin": null,
            "max_height": null,
            "max_width": null,
            "min_height": null,
            "min_width": null,
            "object_fit": null,
            "object_position": null,
            "order": null,
            "overflow": null,
            "overflow_x": null,
            "overflow_y": null,
            "padding": null,
            "right": null,
            "top": null,
            "visibility": null,
            "width": null
          }
        },
        "6d9ddb15f43340acbc32ce9eb4c2da53": {
          "model_module": "@jupyter-widgets/controls",
          "model_name": "DescriptionStyleModel",
          "model_module_version": "1.5.0",
          "state": {
            "_model_module": "@jupyter-widgets/controls",
            "_model_module_version": "1.5.0",
            "_model_name": "DescriptionStyleModel",
            "_view_count": null,
            "_view_module": "@jupyter-widgets/base",
            "_view_module_version": "1.2.0",
            "_view_name": "StyleView",
            "description_width": ""
          }
        },
        "4ee98eb481f04be5960c00d4dad203b8": {
          "model_module": "@jupyter-widgets/base",
          "model_name": "LayoutModel",
          "model_module_version": "1.2.0",
          "state": {
            "_model_module": "@jupyter-widgets/base",
            "_model_module_version": "1.2.0",
            "_model_name": "LayoutModel",
            "_view_count": null,
            "_view_module": "@jupyter-widgets/base",
            "_view_module_version": "1.2.0",
            "_view_name": "LayoutView",
            "align_content": null,
            "align_items": null,
            "align_self": null,
            "border": null,
            "bottom": null,
            "display": null,
            "flex": null,
            "flex_flow": null,
            "grid_area": null,
            "grid_auto_columns": null,
            "grid_auto_flow": null,
            "grid_auto_rows": null,
            "grid_column": null,
            "grid_gap": null,
            "grid_row": null,
            "grid_template_areas": null,
            "grid_template_columns": null,
            "grid_template_rows": null,
            "height": null,
            "justify_content": null,
            "justify_items": null,
            "left": null,
            "margin": null,
            "max_height": null,
            "max_width": null,
            "min_height": null,
            "min_width": null,
            "object_fit": null,
            "object_position": null,
            "order": null,
            "overflow": null,
            "overflow_x": null,
            "overflow_y": null,
            "padding": null,
            "right": null,
            "top": null,
            "visibility": null,
            "width": null
          }
        },
        "bb22d64393944a099d9b667df923db61": {
          "model_module": "@jupyter-widgets/controls",
          "model_name": "ProgressStyleModel",
          "model_module_version": "1.5.0",
          "state": {
            "_model_module": "@jupyter-widgets/controls",
            "_model_module_version": "1.5.0",
            "_model_name": "ProgressStyleModel",
            "_view_count": null,
            "_view_module": "@jupyter-widgets/base",
            "_view_module_version": "1.2.0",
            "_view_name": "StyleView",
            "bar_color": null,
            "description_width": ""
          }
        },
        "0c2c5fd7bcb64d1292e0449a9413109f": {
          "model_module": "@jupyter-widgets/base",
          "model_name": "LayoutModel",
          "model_module_version": "1.2.0",
          "state": {
            "_model_module": "@jupyter-widgets/base",
            "_model_module_version": "1.2.0",
            "_model_name": "LayoutModel",
            "_view_count": null,
            "_view_module": "@jupyter-widgets/base",
            "_view_module_version": "1.2.0",
            "_view_name": "LayoutView",
            "align_content": null,
            "align_items": null,
            "align_self": null,
            "border": null,
            "bottom": null,
            "display": null,
            "flex": null,
            "flex_flow": null,
            "grid_area": null,
            "grid_auto_columns": null,
            "grid_auto_flow": null,
            "grid_auto_rows": null,
            "grid_column": null,
            "grid_gap": null,
            "grid_row": null,
            "grid_template_areas": null,
            "grid_template_columns": null,
            "grid_template_rows": null,
            "height": null,
            "justify_content": null,
            "justify_items": null,
            "left": null,
            "margin": null,
            "max_height": null,
            "max_width": null,
            "min_height": null,
            "min_width": null,
            "object_fit": null,
            "object_position": null,
            "order": null,
            "overflow": null,
            "overflow_x": null,
            "overflow_y": null,
            "padding": null,
            "right": null,
            "top": null,
            "visibility": null,
            "width": null
          }
        },
        "c5704db636e442478550494a80279fda": {
          "model_module": "@jupyter-widgets/controls",
          "model_name": "DescriptionStyleModel",
          "model_module_version": "1.5.0",
          "state": {
            "_model_module": "@jupyter-widgets/controls",
            "_model_module_version": "1.5.0",
            "_model_name": "DescriptionStyleModel",
            "_view_count": null,
            "_view_module": "@jupyter-widgets/base",
            "_view_module_version": "1.2.0",
            "_view_name": "StyleView",
            "description_width": ""
          }
        }
      }
    }
  },
  "cells": [
    {
      "cell_type": "code",
      "execution_count": 1,
      "metadata": {
        "colab": {
          "base_uri": "https://localhost:8080/"
        },
        "id": "wDzYCwj7OBES",
        "outputId": "9cfe150f-02ca-408a-f053-56d03c07bef8"
      },
      "outputs": [
        {
          "output_type": "stream",
          "name": "stdout",
          "text": [
            "Cloning into 'Persian_poems_corpus'...\n",
            "remote: Enumerating objects: 159, done.\u001b[K\n",
            "remote: Total 159 (delta 0), reused 0 (delta 0), pack-reused 159\u001b[K\n",
            "Receiving objects: 100% (159/159), 45.21 MiB | 21.81 MiB/s, done.\n",
            "Resolving deltas: 100% (3/3), done.\n"
          ]
        }
      ],
      "source": [
        "! git clone https://github.com/amnghd/Persian_poems_corpus"
      ]
    },
    {
      "cell_type": "markdown",
      "source": [
        "#Put All Poems in List of Data Series#\n",
        "Each Data Serie is made of verses(not santzas)."
      ],
      "metadata": {
        "id": "Q_fzhWA2mnsg"
      }
    },
    {
      "cell_type": "code",
      "source": [
        "import pandas as pd\n",
        "import os\n",
        "poems_df_list = []\n",
        "poets = [i[:-9] for i in os.listdir('Persian_poems_corpus/normalized')]\n",
        "for poet in poets:\n",
        "  df = pd.read_csv(os.path.join('Persian_poems_corpus/normalized' ,poet+'_norm.txt'), delimiter = \"\\n\", header=None)\n",
        "  if len(df)%2==1:\n",
        "    dx = df.iloc[::2].reset_index(drop=True)[0:-1][0]+' '+df.iloc[1::2].reset_index(drop=True)[0]\n",
        "  else:\n",
        "    dx = df.iloc[::2].reset_index(drop=True)[0]+' '+df.iloc[1::2].reset_index(drop=True)[0]\n",
        "  poems_df_list.append(dx)\n",
        "  del df\n",
        "  del dx"
      ],
      "metadata": {
        "id": "4j6ojfGFODvm"
      },
      "execution_count": 2,
      "outputs": []
    },
    {
      "cell_type": "markdown",
      "source": [],
      "metadata": {
        "id": "6vKkcMgMm48S"
      }
    },
    {
      "cell_type": "markdown",
      "source": [
        "#Choose 10 Poets #\n",
        "I choose 10 poets that the number of verses of their poems is near each other"
      ],
      "metadata": {
        "id": "IGSSCa8-m2VJ"
      }
    },
    {
      "cell_type": "code",
      "source": [
        "import numpy as np\n",
        "len_poems = []\n",
        "for poem in poems_df_list:\n",
        "  len_poems.append(len(poem))\n",
        "len_poems_np = np.array(len_poems)\n",
        "my_poets = [poets[i] for i in len_poems_np.argsort()[-25:-15].tolist()]\n",
        "\n",
        "my_poems_df_list = [poems_df_list[i] for i in len_poems_np.argsort()[-25:-15].tolist()]\n",
        "print(my_poems_df_list)\n",
        "print(my_poets)"
      ],
      "metadata": {
        "colab": {
          "base_uri": "https://localhost:8080/"
        },
        "id": "Lv4i1Ja7aF3U",
        "outputId": "c616f256-7558-4b06-8161-edf3f65a31f3"
      },
      "execution_count": 3,
      "outputs": [
        {
          "output_type": "stream",
          "name": "stdout",
          "text": [
            "[0       ای غره ماه از اثر صنع تو غرا وی طره شب از دم ل...\n",
            "1       نوک قلم صنع تودر مبدا فطرت انگیخته برصفحه کن ص...\n",
            "2       سجاده نشینان نه ایوان فلک را حکم تو فروزنده قن...\n",
            "3       هم رازق بی ریبی و هم خالق بی عیب هم ظاهر پنهان...\n",
            "4       مامور تو از برگ سمن تا بسمندر مصنوع تو از تحت ...\n",
            "                              ...                        \n",
            "8841    روشنست این کانکه از سودای او در آتشیم شمع عشقش...\n",
            "8842    دل بدلداری سپارد هر که صاحبدل بود کانکه جانی ب...\n",
            "8843    آشنایی را بچشم خویش دیدن مشکلست زانکه او دیدار...\n",
            "8844    هر که داند کاندرین ره مقصد کلی یکیست هر زمانی ...\n",
            "8845    دل منه بر ملک جم خواجو که شادروان عمر با فسونی...\n",
            "Name: 0, Length: 8846, dtype: object, 0       سپاس و آفرین آن پادشا را که گیتی را پدید آورد ...\n",
            "1       بدو زیباست ملک و پادشایی که هر گز ناید از ملکش...\n",
            "2       خدای پاک و بی همتا و بی یار هم از اندیشه دور و...\n",
            "3       نه بتواند مرو را چشم دیدن نه اندیشه درو داند ر...\n",
            "4       نه نقصانی پذیرد همچو جوهر نه زان گردد مرو را ح...\n",
            "                              ...                        \n",
            "8976    چراغ و شمع شاید گر نبینم تو دریایی و من مرد گه...\n",
            "8977    ز تو جویم گهر نز چشمه و جوی ز شکرت شد دهان من ...\n",
            "8978    ز مدحت شد زبان من گهر بار چنان چون من ز تو شاد...\n",
            "8979    ز شادی باد عمرت را همه حال همایون باد بر تو رو...\n",
            "8980    همیشه کام راندن باد کارت تو خسرو گشته کام دلت ...\n",
            "Name: 0, Length: 8981, dtype: object, 0         فیض نور خداست در دل ما  از دل ماست نور منزل ما \n",
            "1          نقل ما نقل حرف شیرینش  یاد آن روی شمع محفل ما \n",
            "2         در دل از دوست عقده مشکل  در کف اوست حل مشکل ما \n",
            "3        تخم محنت بسینه ما کشت  آنکه مهرش سرشته در گل ما \n",
            "4          سالها در جوار او بودیم  سایه دوست بود منزل ما \n",
            "                              ...                        \n",
            "9838    ملا بتو بحث و گفتگو ارزانی صوفی بتو وجدهای و ه...\n",
            "9839    زاهد بتو انگبین و حور ارزانی معشوق بما و ما با...\n",
            "9840    ای نسخه اصل خوبی و یکتایی سرچشمه  آبروی هر زیبایی\n",
            "9841    روشن بود از جمال تو هر دو جهان پنهانی تو ز غای...\n",
            "9842    ای حسن تو مجموعه هر زیبایی وز هر دو جهان ز عشق...\n",
            "Name: 0, Length: 9843, dtype: object, 0        پاکا منزها متعالی مهیمنا ای در درون جان و برون...\n",
            "1        از رحمت تو کم نشود گر به فضل خویش منت نهی و عف...\n",
            "2        دوران شر و فتنه و طوفان و حیرت است ظلمت حجاب ر...\n",
            "3        نوح عنایت توبه به کشتی مغفرت سعیی کند مگر به خ...\n",
            "4        آلایشی که رفت به آب کرم بشوی تنزیه ذات پاک تو ...\n",
            "                               ...                        \n",
            "10224      الهی نگیری به ناباکیم که آلوده دامن ز ناپاکی ام\n",
            "10225    بسی بر معاصی رضا داده ام گریبان به دست هوا داد...\n",
            "10226     خلاصم ده از کردت ناپسند به رویم در مغفرت در مبند\n",
            "10227       الهی عزیزم به عزت کنی به رحمت ببخشی و رجعت کنی\n",
            "10228           گناهم به خیرات اهل صفا معاذم به ذریت مصطفا\n",
            "Name: 0, Length: 10229, dtype: object, 0        آه  تاکی ز سفر باز نیایی  بازآ اشتیاق تو مرا س...\n",
            "1        شده نزدیک که هجران تو مارا بکشد گرهمان بر سرخو...\n",
            "2        کرده ای عهد که بازآیی و ما را بکشی وقت آنست که...\n",
            "3        رفتی و باز نمی آیی و من بی تو به جان جان من ای...\n",
            "4        وحشی از جرم همین کز سر آن کو رفتی گرچه مستوجب ...\n",
            "                               ...                        \n",
            "10489    زبان زین گفتگو بربند یکچند که توتی از زبان مان...\n",
            "10490    وصال و وحشی این افسانه خواندند به پایان نامده ...\n",
            "10491    تو هم رمزی از این افسانه گفتی که اندر خواب دید...\n",
            "10492    جهان گویی همه خواب و خیال است خیال وخواب اگر ن...\n",
            "10493    دلم از معنی این قال خون است که در آخر ندانم حا...\n",
            "Name: 0, Length: 10494, dtype: object, 0        ای قبه گردنده بی روزن خضرا با قامت فرتوتی و با...\n",
            "1        فرزند توایم ای فلک ای مادر بدمهر ای مادر ما چو...\n",
            "2        فرزند تو این تیره تن خامش خاکی است پاکیزه خرد ...\n",
            "3        تن خانه این گوهر والای شریف است تو مادر این خا...\n",
            "4        چون کار خود امروز در این خانه بسازم مفرد بروم ...\n",
            "                               ...                        \n",
            "10743    کیوان کردست و ما شکاریم همه واندر کف آز دلفگار...\n",
            "10744    با گشت زمان نیست مرا تنگ دلی کایزد به کسی داد ...\n",
            "10745    بیرون برد از سر بدان مفتعلی شمشیر خداوند معدبن...\n",
            "10746    رنج و عنای جهان اگرچه درازست با بد و با نیک بی...\n",
            "10747    چون مسافر زبهر ماست شب و روز هرچه یکی رفت بر ا...\n",
            "Name: 0, Length: 10748, dtype: object, 0        بر آمد پیلگون ابری ز روی نیلگون دریا چو رای عا...\n",
            "1        چو گردان گشته سیلابی میان آب آسوده چو گردان گر...\n",
            "2        ببارید و زهم بگسست و گردان گشت بر گردون چو پیل...\n",
            "3        تو گفتی گرد زنگارست بر آیینه چینی تو گفتی موی ...\n",
            "4        بسان مرغزار سبز رنگ اندر شده گردش به یک ساعت م...\n",
            "                               ...                        \n",
            "11980     بر دل دشمنان همه یادی ای ترک حق نعمت عاشق شناختی\n",
            "11981    رفتی و ساختی ز جفا هر چه ساختی کردار من به پای...\n",
            "11982    گرد هوای خویش گرفتی و تاختی با تو به دل چنانکه...\n",
            "11983    بر من ز حیله هر چه توان باخت باختی نتوانی ای ن...\n",
            "11984    از بندگان خویش مرا کم نواختی گویا حدیث ما و تو...\n",
            "Name: 0, Length: 11985, dtype: object, 0        دیدن روی تو را محرم نباشد چشم ما دیده از جان س...\n",
            "1        از رخ و روی تو رنگی تابناک آمد بچشم وز سر زلف ...\n",
            "2        گر بیاد روی گلرنگ تو درخاکم نهند تا بحشر از تر...\n",
            "3        نان لطف ای شاه در زنبیل فقرم ار نهی همچو من در...\n",
            "4        گوهر عشقت که جان بی دلانش معدنست قلب ما را آنچ...\n",
            "                               ...                        \n",
            "13003    بیم آن است که ابدال خضر را گویند گر سوی روم رو...\n",
            "13004    مملکت جمله پر از منکر و معروفی نه که به خیر ام...\n",
            "13005    خلق بیم است که چون ذره پراگنده شوند گر به ایشا...\n",
            "13006    گر نیایی برود این رمقی نیز که هست ور بیایی کند...\n",
            "13007    آفتابا به شرف خانه خویش آی و بپاش نور بر خلق ک...\n",
            "Name: 0, Length: 13008, dtype: object, 0        دل به بوی وصل آن گل آب و گل را ساخت جا  ورنه م...\n",
            "1        از هوای دل گل بستان خوبی یافت رنگ  وزگل بستان ...\n",
            "2        گر دماغ باغ نیز از بوی او آشفته نیست  پس چرا ه...\n",
            "3        جز به چشم آشنایانش خیال روی او  در نمی آید که ...\n",
            "4        با شما بودیم پیش از اتصال مای و طین  حبذا ایام...\n",
            "                               ...                        \n",
            "13010    چه داد عشرت و شادی توان داد دلیلا من ذلیل و شر...\n",
            "13011     به فضل و رحمتت امیدوارم زبانم را سعادت کردی آغاز\n",
            "13012    کلامم را شهادت خاتمت ساز به اقبال آمد این دولت...\n",
            "13013    الهی عاقبت محمود گردان به رسم حضرت سلطان عهد ش...\n",
            "13014    که عهد سلطنتش باد متصل به دوام شد این ربیع معا...\n",
            "Name: 0, Length: 13015, dtype: object, 0        بیا ای جان بیا ای جان بیا فریاد رس ما را چو ما...\n",
            "1        ز عشقت گرچه با دردیم و در هجرانت اندر غم وز عش...\n",
            "2        کم از یک دم زدن ما را اگر در دیده خواب آید غم ...\n",
            "3        لبت چون چشمه نوش است و ما اندر هوس مانده که بر...\n",
            "4        به آب چشمه حیوان حیاتی انوری را ده که اندر آتش...\n",
            "                               ...                        \n",
            "13302    با دل گفتم گرد بلا می پویی بنشین که نه مرد عشق...\n",
            "13303    دل گفت ز خواب دیر بیدار شدی خر جست و رسن برد ک...\n",
            "13304    صورت گر فطرت ننگارد چو تویی دوران فلک برون نیا...\n",
            "13305    هرچند همه جهان تو داری لیکن ای صدر جهان جهان ن...\n",
            "13306    ای نامتحرک حیوانی که تویی ای خواجه رایگان گران...\n",
            "Name: 0, Length: 13307, dtype: object]\n",
            "['khajoo', 'asad', 'feyz', 'nezari', 'vahshi', 'naserkhosro', 'farrokhi', 'seyf', 'salman', 'anvari']\n"
          ]
        }
      ]
    },
    {
      "cell_type": "markdown",
      "source": [
        "#Finding Maximum Number of Tokens In All Verses of All poets#"
      ],
      "metadata": {
        "id": "l9chh0cutqV1"
      }
    },
    {
      "cell_type": "code",
      "source": [
        "!pip install transformers"
      ],
      "metadata": {
        "colab": {
          "base_uri": "https://localhost:8080/"
        },
        "id": "z4aKfiD96ZSh",
        "outputId": "1771c6b2-20a3-42b9-ffbe-78792b1e3cde"
      },
      "execution_count": 4,
      "outputs": [
        {
          "output_type": "stream",
          "name": "stdout",
          "text": [
            "Looking in indexes: https://pypi.org/simple, https://us-python.pkg.dev/colab-wheels/public/simple/\n",
            "Collecting transformers\n",
            "  Downloading transformers-4.26.0-py3-none-any.whl (6.3 MB)\n",
            "\u001b[2K     \u001b[90m━━━━━━━━━━━━━━━━━━━━━━━━━━━━━━━━━━━━━━━━\u001b[0m \u001b[32m6.3/6.3 MB\u001b[0m \u001b[31m79.2 MB/s\u001b[0m eta \u001b[36m0:00:00\u001b[0m\n",
            "\u001b[?25hRequirement already satisfied: packaging>=20.0 in /usr/local/lib/python3.8/dist-packages (from transformers) (23.0)\n",
            "Collecting huggingface-hub<1.0,>=0.11.0\n",
            "  Downloading huggingface_hub-0.12.0-py3-none-any.whl (190 kB)\n",
            "\u001b[2K     \u001b[90m━━━━━━━━━━━━━━━━━━━━━━━━━━━━━━━━━━━━━━\u001b[0m \u001b[32m190.3/190.3 KB\u001b[0m \u001b[31m22.7 MB/s\u001b[0m eta \u001b[36m0:00:00\u001b[0m\n",
            "\u001b[?25hRequirement already satisfied: pyyaml>=5.1 in /usr/local/lib/python3.8/dist-packages (from transformers) (6.0)\n",
            "Requirement already satisfied: tqdm>=4.27 in /usr/local/lib/python3.8/dist-packages (from transformers) (4.64.1)\n",
            "Collecting tokenizers!=0.11.3,<0.14,>=0.11.1\n",
            "  Downloading tokenizers-0.13.2-cp38-cp38-manylinux_2_17_x86_64.manylinux2014_x86_64.whl (7.6 MB)\n",
            "\u001b[2K     \u001b[90m━━━━━━━━━━━━━━━━━━━━━━━━━━━━━━━━━━━━━━━━\u001b[0m \u001b[32m7.6/7.6 MB\u001b[0m \u001b[31m28.0 MB/s\u001b[0m eta \u001b[36m0:00:00\u001b[0m\n",
            "\u001b[?25hRequirement already satisfied: numpy>=1.17 in /usr/local/lib/python3.8/dist-packages (from transformers) (1.21.6)\n",
            "Requirement already satisfied: regex!=2019.12.17 in /usr/local/lib/python3.8/dist-packages (from transformers) (2022.6.2)\n",
            "Requirement already satisfied: requests in /usr/local/lib/python3.8/dist-packages (from transformers) (2.25.1)\n",
            "Requirement already satisfied: filelock in /usr/local/lib/python3.8/dist-packages (from transformers) (3.9.0)\n",
            "Requirement already satisfied: typing-extensions>=3.7.4.3 in /usr/local/lib/python3.8/dist-packages (from huggingface-hub<1.0,>=0.11.0->transformers) (4.4.0)\n",
            "Requirement already satisfied: urllib3<1.27,>=1.21.1 in /usr/local/lib/python3.8/dist-packages (from requests->transformers) (1.24.3)\n",
            "Requirement already satisfied: idna<3,>=2.5 in /usr/local/lib/python3.8/dist-packages (from requests->transformers) (2.10)\n",
            "Requirement already satisfied: certifi>=2017.4.17 in /usr/local/lib/python3.8/dist-packages (from requests->transformers) (2022.12.7)\n",
            "Requirement already satisfied: chardet<5,>=3.0.2 in /usr/local/lib/python3.8/dist-packages (from requests->transformers) (4.0.0)\n",
            "Installing collected packages: tokenizers, huggingface-hub, transformers\n",
            "Successfully installed huggingface-hub-0.12.0 tokenizers-0.13.2 transformers-4.26.0\n"
          ]
        }
      ]
    },
    {
      "cell_type": "code",
      "source": [
        "from transformers import AutoConfig, AutoTokenizer, AutoModel\n",
        "\n",
        "config = AutoConfig.from_pretrained(\"HooshvareLab/bert-fa-base-uncased\")\n",
        "tokenizer = AutoTokenizer.from_pretrained(\"HooshvareLab/bert-fa-base-uncased\")"
      ],
      "metadata": {
        "colab": {
          "base_uri": "https://localhost:8080/",
          "height": 81,
          "referenced_widgets": [
            "013bab335ebc45d781d4451cc87179d7",
            "75f485716f6a463c85137549a58a7680",
            "c9797bae3f4f44869b43a17d7966afee",
            "b1f4b34c7f784ffca0d7509eb65c2673",
            "fb6e293d18be41149d440396443dd7bb",
            "0a90a0e6d5604b4ea6f9e4a905b607c5",
            "b2703e8379d34a8189d3a3dce26a7d62",
            "ffa56d851ab542088c113d6a75006e60",
            "b92f2899fe604f1d8c02b3cf7bf36c21",
            "6180841bf3d74ce8a74cd8813bb03d82",
            "8c2abfef10914212aef0f1e71e3dee0a",
            "e46a61305af145dfa0961bf3e76f16db",
            "6c294f3fb98444d69628964a8ffbbf71",
            "4603ca5a3c004e82ba6cd8326ca80fd7",
            "1b60190cd7254ba1a045e7c850702bc0",
            "2b4974436b7d4526a42da170791981d2",
            "982e62081bc44af98b1ca62a0859ba54",
            "6d9ddb15f43340acbc32ce9eb4c2da53",
            "4ee98eb481f04be5960c00d4dad203b8",
            "bb22d64393944a099d9b667df923db61",
            "0c2c5fd7bcb64d1292e0449a9413109f",
            "c5704db636e442478550494a80279fda"
          ]
        },
        "id": "1lsltUgj6Zot",
        "outputId": "bbb263a9-a5df-45e6-9806-086768991bea"
      },
      "execution_count": 5,
      "outputs": [
        {
          "output_type": "display_data",
          "data": {
            "text/plain": [
              "Downloading (…)lve/main/config.json:   0%|          | 0.00/440 [00:00<?, ?B/s]"
            ],
            "application/vnd.jupyter.widget-view+json": {
              "version_major": 2,
              "version_minor": 0,
              "model_id": "013bab335ebc45d781d4451cc87179d7"
            }
          },
          "metadata": {}
        },
        {
          "output_type": "display_data",
          "data": {
            "text/plain": [
              "Downloading (…)solve/main/vocab.txt:   0%|          | 0.00/1.20M [00:00<?, ?B/s]"
            ],
            "application/vnd.jupyter.widget-view+json": {
              "version_major": 2,
              "version_minor": 0,
              "model_id": "e46a61305af145dfa0961bf3e76f16db"
            }
          },
          "metadata": {}
        }
      ]
    },
    {
      "cell_type": "code",
      "source": [
        "max_verse_length = 0\n",
        "for my_poem_df in my_poems_df_list:\n",
        "    for my_verse in my_poem_df:\n",
        "        max_verse_length = max(max_verse_length, len(tokenizer.encode(my_verse, add_special_tokens=True)))\n",
        "\n",
        "max_verse_length \n"
      ],
      "metadata": {
        "colab": {
          "base_uri": "https://localhost:8080/"
        },
        "id": "MeNDfft87Gf0",
        "outputId": "eeadc350-9fa2-4d59-81a0-c20d8e542871"
      },
      "execution_count": 6,
      "outputs": [
        {
          "output_type": "execute_result",
          "data": {
            "text/plain": [
              "31"
            ]
          },
          "metadata": {},
          "execution_count": 6
        }
      ]
    },
    {
      "cell_type": "code",
      "source": [
        "import torch\n",
        "input_ids = []\n",
        "attention_masks = []\n",
        "labels = []\n",
        "\n",
        "for poet_label, my_poem_df in enumerate(my_poems_df_list):\n",
        "      for my_verse in my_poem_df:\n",
        "          encoded_dict = tokenizer.encode_plus(\n",
        "                            my_verse,                      \n",
        "                            add_special_tokens = True, \n",
        "                            max_length = max_verse_length ,    \n",
        "                            pad_to_max_length = True,\n",
        "                            return_attention_mask = True, \n",
        "                            return_tensors = 'pt',   \n",
        "                    )\n",
        "        \n",
        "          input_ids.append(encoded_dict['input_ids'])\n",
        "          attention_masks.append(encoded_dict['attention_mask'])\n",
        "          labels.append(poet_label)\n",
        "\n",
        "input_ids = torch.cat(input_ids, dim=0)\n",
        "attention_masks = torch.cat(attention_masks, dim=0)\n",
        "labels = torch.tensor(labels)\n"
      ],
      "metadata": {
        "colab": {
          "base_uri": "https://localhost:8080/"
        },
        "id": "vhLeMVw79k6m",
        "outputId": "7cf337b5-c126-4435-9cef-06d60e4e03c2"
      },
      "execution_count": 7,
      "outputs": [
        {
          "output_type": "stream",
          "name": "stderr",
          "text": [
            "Truncation was not explicitly activated but `max_length` is provided a specific value, please use `truncation=True` to explicitly truncate examples to max length. Defaulting to 'longest_first' truncation strategy. If you encode pairs of sequences (GLUE-style) with the tokenizer you can select this strategy more precisely by providing a specific strategy to `truncation`.\n",
            "/usr/local/lib/python3.8/dist-packages/transformers/tokenization_utils_base.py:2339: FutureWarning: The `pad_to_max_length` argument is deprecated and will be removed in a future version, use `padding=True` or `padding='longest'` to pad to the longest sequence in the batch, or use `padding='max_length'` to pad to a max length. In this case, you can give a specific length with `max_length` (e.g. `max_length=45`) or leave max_length to None to pad to the maximal input size of the model (e.g. 512 for Bert).\n",
            "  warnings.warn(\n"
          ]
        }
      ]
    },
    {
      "cell_type": "code",
      "source": [
        "print(input_ids.shape)\n",
        "print(attention_masks.shape)\n",
        "print(labels.shape)"
      ],
      "metadata": {
        "colab": {
          "base_uri": "https://localhost:8080/"
        },
        "id": "qsnDftJyB7j4",
        "outputId": "466475ab-97f1-49b2-c059-23959d1dc2ca"
      },
      "execution_count": 22,
      "outputs": [
        {
          "output_type": "stream",
          "name": "stdout",
          "text": [
            "torch.Size([110456, 31])\n",
            "torch.Size([110456, 31])\n",
            "torch.Size([110456])\n"
          ]
        }
      ]
    },
    {
      "cell_type": "code",
      "source": [
        "from torch.utils.data import TensorDataset, random_split\n",
        "torch.manual_seed(42)\n",
        "dataset = TensorDataset(input_ids, attention_masks, labels)\n",
        "train_size = int(0.7 * len(dataset))\n",
        "val_size = int(0.15 *len(dataset))\n",
        "test_size = len(dataset) - train_size - val_size\n",
        "train_dataset,val_dataset, test_dataset = random_split(dataset, [train_size, val_size, test_size])"
      ],
      "metadata": {
        "id": "WsaAqie9EAGq"
      },
      "execution_count": 46,
      "outputs": []
    },
    {
      "cell_type": "code",
      "source": [
        "print(len(train_dataset))\n",
        "train_dataset[0]"
      ],
      "metadata": {
        "colab": {
          "base_uri": "https://localhost:8080/"
        },
        "id": "l4-pDwWTEEa-",
        "outputId": "b47f10db-33b7-4ca8-ecac-94f0a50d0723"
      },
      "execution_count": 47,
      "outputs": [
        {
          "output_type": "stream",
          "name": "stdout",
          "text": [
            "77319\n"
          ]
        },
        {
          "output_type": "execute_result",
          "data": {
            "text/plain": [
              "(tensor([    2,  2958,  2801,  6052,  5966,  6722,  2974,  6778, 61474, 11543,\n",
              "          8540,  2800,  6512,  3306,     4,     0,     0,     0,     0,     0,\n",
              "             0,     0,     0,     0,     0,     0,     0,     0,     0,     0,\n",
              "             0]),\n",
              " tensor([1, 1, 1, 1, 1, 1, 1, 1, 1, 1, 1, 1, 1, 1, 1, 0, 0, 0, 0, 0, 0, 0, 0, 0,\n",
              "         0, 0, 0, 0, 0, 0, 0]),\n",
              " tensor(6))"
            ]
          },
          "metadata": {},
          "execution_count": 47
        }
      ]
    },
    {
      "cell_type": "code",
      "source": [
        "print(len(val_dataset))\n",
        "val_dataset[0]"
      ],
      "metadata": {
        "colab": {
          "base_uri": "https://localhost:8080/"
        },
        "id": "wYowM8VpFeDW",
        "outputId": "8571393a-38db-49c5-ced3-383f859bc694"
      },
      "execution_count": 48,
      "outputs": [
        {
          "output_type": "stream",
          "name": "stdout",
          "text": [
            "16568\n"
          ]
        },
        {
          "output_type": "execute_result",
          "data": {
            "text/plain": [
              "(tensor([    2,  2911,  2896,  3010,  2848,  8345,  5355,  2867,  6722,  1379,\n",
              "          4929,  1363,  2861, 61585,  2860,  2848,  3525, 21886,  2009,  3073,\n",
              "         22838, 19444,     4,     0,     0,     0,     0,     0,     0,     0,\n",
              "             0]),\n",
              " tensor([1, 1, 1, 1, 1, 1, 1, 1, 1, 1, 1, 1, 1, 1, 1, 1, 1, 1, 1, 1, 1, 1, 1, 0,\n",
              "         0, 0, 0, 0, 0, 0, 0]),\n",
              " tensor(7))"
            ]
          },
          "metadata": {},
          "execution_count": 48
        }
      ]
    },
    {
      "cell_type": "code",
      "source": [
        "print(len(test_dataset))\n",
        "test_dataset[0]"
      ],
      "metadata": {
        "colab": {
          "base_uri": "https://localhost:8080/"
        },
        "id": "2KJzMmWlFiBM",
        "outputId": "c97d3ac5-37fe-4a45-b42d-85836a8ff667"
      },
      "execution_count": 49,
      "outputs": [
        {
          "output_type": "stream",
          "name": "stdout",
          "text": [
            "16569\n"
          ]
        },
        {
          "output_type": "execute_result",
          "data": {
            "text/plain": [
              "(tensor([    2, 25953, 93987, 18969,  5728,  2800,  2883,  2808, 38402,  3288,\n",
              "          9052,  4035,  3239, 11782,  3048,  4969,  4694, 24791,  2835,     4,\n",
              "             0,     0,     0,     0,     0,     0,     0,     0,     0,     0,\n",
              "             0]),\n",
              " tensor([1, 1, 1, 1, 1, 1, 1, 1, 1, 1, 1, 1, 1, 1, 1, 1, 1, 1, 1, 1, 0, 0, 0, 0,\n",
              "         0, 0, 0, 0, 0, 0, 0]),\n",
              " tensor(0))"
            ]
          },
          "metadata": {},
          "execution_count": 49
        }
      ]
    },
    {
      "cell_type": "code",
      "source": [
        "device = 'cuda' if torch.cuda.is_available() else 'cpu'\n",
        "device"
      ],
      "metadata": {
        "colab": {
          "base_uri": "https://localhost:8080/",
          "height": 36
        },
        "id": "2s6bY6xUOo_7",
        "outputId": "53af423d-b062-493f-8277-fc17297fde33"
      },
      "execution_count": 50,
      "outputs": [
        {
          "output_type": "execute_result",
          "data": {
            "text/plain": [
              "'cuda'"
            ],
            "application/vnd.google.colaboratory.intrinsic+json": {
              "type": "string"
            }
          },
          "metadata": {},
          "execution_count": 50
        }
      ]
    },
    {
      "cell_type": "markdown",
      "source": [
        "#Part1 : Linear Tuned Model#"
      ],
      "metadata": {
        "id": "CGsw117QYxUx"
      }
    },
    {
      "cell_type": "code",
      "source": [
        "from transformers import BertForSequenceClassification, BertConfig\n",
        "from prettytable import PrettyTable\n",
        "import torch.nn as nn\n",
        "def count_parameters(model):\n",
        "    table = PrettyTable([\"Modules\", \"Parameters\"])\n",
        "    total_params = 0\n",
        "    for name, parameter in model.named_parameters():\n",
        "        if not parameter.requires_grad: continue\n",
        "        params = parameter.numel()\n",
        "        table.add_row([name, params])\n",
        "        total_params+=params\n",
        "    print(table)\n",
        "    print(f\"Total Trainable Params: {total_params}\")\n",
        "    return total_params\n",
        "model_linear = AutoModel.from_pretrained(\"HooshvareLab/bert-fa-base-uncased\")\n",
        "for param in model_linear.parameters():\n",
        "    param.requires_grad = False\n",
        "model_linear.pooler = nn.Linear(768, 10)\n",
        "model_linear.to(device)\n",
        "params = count_parameters(model_linear)"
      ],
      "metadata": {
        "colab": {
          "base_uri": "https://localhost:8080/"
        },
        "id": "LY8lYWZMKyji",
        "outputId": "a396e77d-0e72-4d01-ab80-b3317cc9fa71"
      },
      "execution_count": 51,
      "outputs": [
        {
          "output_type": "stream",
          "name": "stderr",
          "text": [
            "Some weights of the model checkpoint at HooshvareLab/bert-fa-base-uncased were not used when initializing BertModel: ['cls.predictions.transform.LayerNorm.bias', 'cls.predictions.transform.LayerNorm.weight', 'cls.seq_relationship.weight', 'cls.predictions.decoder.bias', 'cls.predictions.transform.dense.weight', 'cls.predictions.decoder.weight', 'cls.predictions.transform.dense.bias', 'cls.predictions.bias', 'cls.seq_relationship.bias']\n",
            "- This IS expected if you are initializing BertModel from the checkpoint of a model trained on another task or with another architecture (e.g. initializing a BertForSequenceClassification model from a BertForPreTraining model).\n",
            "- This IS NOT expected if you are initializing BertModel from the checkpoint of a model that you expect to be exactly identical (initializing a BertForSequenceClassification model from a BertForSequenceClassification model).\n"
          ]
        },
        {
          "output_type": "stream",
          "name": "stdout",
          "text": [
            "+---------------+------------+\n",
            "|    Modules    | Parameters |\n",
            "+---------------+------------+\n",
            "| pooler.weight |    7680    |\n",
            "|  pooler.bias  |     10     |\n",
            "+---------------+------------+\n",
            "Total Trainable Params: 7690\n"
          ]
        }
      ]
    },
    {
      "cell_type": "code",
      "execution_count": 52,
      "metadata": {
        "id": "ShmpgyBhqypu"
      },
      "outputs": [],
      "source": [
        "def train_loop(dataloader, model, loss_fn, optimizer):\n",
        "    size = len(dataloader.dataset)\n",
        "    for batch, data in enumerate(dataloader):\n",
        "        input_ids = data[0].to(device)\n",
        "        input_mask = data[1].to(device)\n",
        "        labels = data[2].to(device)\n",
        "        input_ids = input_ids.to(device)\n",
        "        input_mask = input_mask.to(device)\n",
        "        labels = labels.to(device)\n",
        "\n",
        "        model.train()\n",
        "        pred = model(input_ids).pooler_output.permute((1, 0, 2))[0]\n",
        "        loss = loss_fn(pred, labels) \n",
        "\n",
        "        # Backpropagation\n",
        "        optimizer.zero_grad()\n",
        "        loss.backward()\n",
        "        optimizer.step()\n",
        "        if batch % 100 == 0:\n",
        "            loss, current = loss.item(), batch * len(input_ids)\n",
        "            print(f\"loss: {loss:>7f}  [{current:>5d}/{size:>5d}]\")\n",
        "\n",
        "\n",
        "def test_loop(dataloader, model, loss_fn):\n",
        "    size = len(dataloader.dataset)\n",
        "    num_batches = len(dataloader)\n",
        "    test_loss, correct = 0, 0\n",
        "    \n",
        "    with torch.no_grad():\n",
        "        for data in dataloader:\n",
        "            input_ids = data[0].to(device)\n",
        "            input_mask = data[1].to(device)\n",
        "            labels = data[2].to(device)\n",
        "            input_ids = input_ids.to(device)\n",
        "            input_mask = input_mask.to(device)\n",
        "            labels = labels.to(device)\n",
        "            model.eval()\n",
        "\n",
        "            pred = model(input_ids).pooler_output.permute((1, 0, 2))[0]\n",
        "            test_loss += loss_fn(pred, labels).item()\n",
        "            correct += (pred.argmax(1) == labels).type(torch.float).sum().item()\n",
        "\n",
        "    test_loss /= num_batches\n",
        "    correct /= size\n",
        "    print(f\"Test Error: \\n Accuracy: {(100*correct):>0.1f}%, Avg loss: {test_loss:>8f} \\n\")\n",
        "    return correct,test_loss"
      ]
    },
    {
      "cell_type": "code",
      "source": [
        "from torch.utils.data import DataLoader\n",
        "train_dataloader = DataLoader(train_dataset, batch_size=64, shuffle=True)  \n",
        "\n",
        "val_dataloader = DataLoader(val_dataset, batch_size=64, shuffle=False)\n",
        "\n",
        "test_dataloader = DataLoader(test_dataset, batch_size=64, shuffle=False)\n"
      ],
      "metadata": {
        "id": "rXVNe56TZu5X"
      },
      "execution_count": 53,
      "outputs": []
    },
    {
      "cell_type": "code",
      "execution_count": 54,
      "metadata": {
        "colab": {
          "base_uri": "https://localhost:8080/"
        },
        "id": "h8LOY7MDzbuA",
        "outputId": "d085151b-8a65-4863-88d2-cfbf1cdd9157"
      },
      "outputs": [
        {
          "output_type": "stream",
          "name": "stdout",
          "text": [
            "Epoch 1\n",
            "-------------------------------\n",
            "loss: 2.416190  [    0/77319]\n",
            "loss: 2.098367  [ 6400/77319]\n",
            "loss: 2.127754  [12800/77319]\n",
            "loss: 2.120794  [19200/77319]\n",
            "loss: 1.923543  [25600/77319]\n",
            "loss: 1.967951  [32000/77319]\n",
            "loss: 1.967956  [38400/77319]\n",
            "loss: 1.987794  [44800/77319]\n",
            "loss: 1.848934  [51200/77319]\n",
            "loss: 1.958863  [57600/77319]\n",
            "loss: 1.832809  [64000/77319]\n",
            "loss: 1.890755  [70400/77319]\n",
            "loss: 2.095255  [76800/77319]\n",
            "Test Error: \n",
            " Accuracy: 32.7%, Avg loss: 1.873593 \n",
            "\n",
            "Epoch 2\n",
            "-------------------------------\n",
            "loss: 2.075663  [    0/77319]\n",
            "loss: 1.880057  [ 6400/77319]\n",
            "loss: 1.877188  [12800/77319]\n",
            "loss: 1.868775  [19200/77319]\n",
            "loss: 1.918449  [25600/77319]\n",
            "loss: 1.998672  [32000/77319]\n",
            "loss: 1.995187  [38400/77319]\n",
            "loss: 1.937525  [44800/77319]\n",
            "loss: 1.965743  [51200/77319]\n",
            "loss: 1.996849  [57600/77319]\n",
            "loss: 1.935534  [64000/77319]\n",
            "loss: 1.914544  [70400/77319]\n",
            "loss: 1.825345  [76800/77319]\n",
            "Test Error: \n",
            " Accuracy: 36.1%, Avg loss: 1.811970 \n",
            "\n",
            "Epoch 3\n",
            "-------------------------------\n",
            "loss: 1.994148  [    0/77319]\n",
            "loss: 1.937252  [ 6400/77319]\n",
            "loss: 1.898767  [12800/77319]\n",
            "loss: 1.975561  [19200/77319]\n",
            "loss: 1.845357  [25600/77319]\n",
            "loss: 2.032047  [32000/77319]\n",
            "loss: 1.655238  [38400/77319]\n",
            "loss: 2.039224  [44800/77319]\n",
            "loss: 1.803882  [51200/77319]\n",
            "loss: 1.855379  [57600/77319]\n",
            "loss: 1.763558  [64000/77319]\n",
            "loss: 2.003581  [70400/77319]\n",
            "loss: 1.975146  [76800/77319]\n",
            "Test Error: \n",
            " Accuracy: 35.7%, Avg loss: 1.820321 \n",
            "\n",
            "Epoch 4\n",
            "-------------------------------\n",
            "loss: 1.813971  [    0/77319]\n",
            "loss: 1.920742  [ 6400/77319]\n",
            "loss: 1.954281  [12800/77319]\n",
            "loss: 2.156070  [19200/77319]\n",
            "loss: 2.177386  [25600/77319]\n",
            "loss: 1.853921  [32000/77319]\n",
            "loss: 1.929573  [38400/77319]\n",
            "loss: 1.897489  [44800/77319]\n",
            "loss: 1.939531  [51200/77319]\n",
            "loss: 1.929483  [57600/77319]\n",
            "loss: 1.822808  [64000/77319]\n",
            "loss: 1.742078  [70400/77319]\n",
            "loss: 2.185725  [76800/77319]\n",
            "Test Error: \n",
            " Accuracy: 36.8%, Avg loss: 1.785255 \n",
            "\n",
            "Epoch 5\n",
            "-------------------------------\n",
            "loss: 2.117354  [    0/77319]\n",
            "loss: 1.895928  [ 6400/77319]\n",
            "loss: 1.966467  [12800/77319]\n",
            "loss: 2.030879  [19200/77319]\n",
            "loss: 2.060908  [25600/77319]\n",
            "loss: 1.896323  [32000/77319]\n",
            "loss: 1.992729  [38400/77319]\n",
            "loss: 1.958629  [44800/77319]\n",
            "loss: 1.794460  [51200/77319]\n",
            "loss: 1.867468  [57600/77319]\n",
            "loss: 1.773462  [64000/77319]\n",
            "loss: 1.533048  [70400/77319]\n",
            "loss: 1.864969  [76800/77319]\n",
            "Test Error: \n",
            " Accuracy: 37.5%, Avg loss: 1.769694 \n",
            "\n",
            "Done!\n"
          ]
        }
      ],
      "source": [
        "loss_fn = nn.CrossEntropyLoss()\n",
        "learning_rate = 1e-3\n",
        "epochs = 5\n",
        "optimizer = torch.optim.Adam(model_linear.parameters(), lr = learning_rate)\n",
        "val_accuracy = []\n",
        "for t in range(epochs):\n",
        "    print(f\"Epoch {t+1}\\n-------------------------------\")\n",
        "    train_loop(train_dataloader, model_linear, loss_fn, optimizer)\n",
        "    val_accuracy.append(test_loop(val_dataloader, model_linear, loss_fn)[0])\n",
        "    if np.argmax(val_accuracy) ==len(val_accuracy)-1:\n",
        "      torch.save(model_linear,' model_linear.pth')\n",
        "\n",
        "      \n",
        "print(\"Done!\")"
      ]
    },
    {
      "cell_type": "markdown",
      "source": [
        "#Download The Best Linear Model\n",
        "If you don't have time for training, you can run this section."
      ],
      "metadata": {
        "id": "M-nHt5XD8Gx7"
      }
    },
    {
      "cell_type": "code",
      "source": [
        "!gdown 1GqAZYqalinJndjXdx95iHpaD8T8qg7-n"
      ],
      "metadata": {
        "id": "Urkdz_Qh8W_J"
      },
      "execution_count": null,
      "outputs": []
    },
    {
      "cell_type": "markdown",
      "metadata": {
        "id": "K1Fza_t4BS4P"
      },
      "source": [
        "##Acuuracy,Loss, micro F1 Score & Confusion Matrix of Test Data On Linear Model##"
      ]
    },
    {
      "cell_type": "code",
      "source": [
        "model_linear = torch.load('/content/ model_linear.pth')"
      ],
      "metadata": {
        "id": "IHUbfpIr7v_i"
      },
      "execution_count": 56,
      "outputs": []
    },
    {
      "cell_type": "code",
      "source": [
        "from sklearn.metrics import confusion_matrix\n",
        "from sklearn.metrics import f1_score\n",
        "import seaborn as sn\n",
        "import pandas as pd\n",
        "import matplotlib.pyplot as plt\n",
        "def test_condition(dataloader, model):\n",
        "         pred_list=[]\n",
        "         true_list=[]\n",
        "         with torch.no_grad():\n",
        "          for data in dataloader:\n",
        "              input_ids = data[0].to(device)\n",
        "              input_mask = data[1].to(device)\n",
        "              labels = data[2].to(device)\n",
        "              input_ids = input_ids.to(device)\n",
        "              input_mask = input_mask.to(device)\n",
        "              labels = labels.to(device)\n",
        "              model.eval()\n",
        "              pred = model(input_ids).pooler_output.permute((1, 0, 2))[0]\n",
        "\n",
        "              pred_list.extend(pred.argmax(1).data.cpu().numpy())\n",
        "              true_list.extend(labels.data.cpu().numpy())\n",
        "          return  true_list, pred_list\n",
        "true_list, pred_list =test_condition(test_dataloader, model_linear)"
      ],
      "metadata": {
        "id": "J_q-Km3u7t8Y"
      },
      "execution_count": 57,
      "outputs": []
    },
    {
      "cell_type": "code",
      "source": [
        "test_accuracy_loss = test_loop(test_dataloader, model_linear, loss_fn)\n",
        "print(f\"Accuracy of Test Set On Linear Model Is:{test_accuracy_loss[0]}\")\n",
        "print(f\"Loss of Test Set On Linear Model Is:{test_accuracy_loss[1]}\")"
      ],
      "metadata": {
        "colab": {
          "base_uri": "https://localhost:8080/"
        },
        "id": "CZO-D9bJ5ST9",
        "outputId": "7fcc6521-5ffa-429b-825d-f27cf3803299"
      },
      "execution_count": 58,
      "outputs": [
        {
          "output_type": "stream",
          "name": "stdout",
          "text": [
            "Test Error: \n",
            " Accuracy: 37.9%, Avg loss: 1.772233 \n",
            "\n",
            "Accuracy of Test Set On Linear Model Is:0.37938318546683564\n",
            "Loss of Test Set On Linear Model Is:1.772232522375335\n"
          ]
        }
      ]
    },
    {
      "cell_type": "code",
      "source": [
        "print(f\"micro F1 Score of Test Set On Linear Model Is:{f1_score(true_list, pred_list, average='micro')}\")"
      ],
      "metadata": {
        "colab": {
          "base_uri": "https://localhost:8080/"
        },
        "id": "mx5Y1Vo34IGj",
        "outputId": "952384e3-faef-473a-ffd2-d849ecbccc3b"
      },
      "execution_count": 59,
      "outputs": [
        {
          "output_type": "stream",
          "name": "stdout",
          "text": [
            "micro F1 Score of Test Set On Linear Model Is:0.37938318546683564\n"
          ]
        }
      ]
    },
    {
      "cell_type": "code",
      "execution_count": 60,
      "metadata": {
        "colab": {
          "base_uri": "https://localhost:8080/",
          "height": 449
        },
        "id": "q7pC0LRyBbGH",
        "outputId": "c3483b7a-9cbf-4ffd-e718-793d2849ad45"
      },
      "outputs": [
        {
          "output_type": "execute_result",
          "data": {
            "text/plain": [
              "<matplotlib.axes._subplots.AxesSubplot at 0x7f112e883520>"
            ]
          },
          "metadata": {},
          "execution_count": 60
        },
        {
          "output_type": "display_data",
          "data": {
            "text/plain": [
              "<Figure size 864x504 with 2 Axes>"
            ],
            "image/png": "[encoded data removed]"
          },
          "metadata": {
            "needs_background": "light"
          }
        }
      ],
      "source": [
        "cf_matrix = confusion_matrix(true_list, pred_list)\n",
        "df_cm = pd.DataFrame(cf_matrix, index = my_poets,columns = my_poets)\n",
        "plt.figure(figsize = (12,7))\n",
        "sn.heatmap(df_cm, annot=True)\n"
      ]
    },
    {
      "cell_type": "markdown",
      "source": [
        "#Part2: Fine Tuned Model#"
      ],
      "metadata": {
        "id": "Z1i2DYqQX5ZA"
      }
    },
    {
      "cell_type": "code",
      "source": [
        "model_fine_tuned = BertForSequenceClassification.from_pretrained(\n",
        "    \"HooshvareLab/bert-fa-base-uncased\", \n",
        "    num_labels = 10, \n",
        "    output_attentions = False, \n",
        "    output_hidden_states = False)\n",
        "params = count_parameters(model_fine_tuned)\n",
        "model_fine_tuned.to(device)"
      ],
      "metadata": {
        "colab": {
          "base_uri": "https://localhost:8080/"
        },
        "id": "6KKMSZOuY_AH",
        "outputId": "9dff8125-0e80-4314-e3dd-6e1a81839664"
      },
      "execution_count": 86,
      "outputs": [
        {
          "output_type": "stream",
          "name": "stderr",
          "text": [
            "Some weights of the model checkpoint at HooshvareLab/bert-fa-base-uncased were not used when initializing BertForSequenceClassification: ['cls.predictions.transform.LayerNorm.bias', 'cls.predictions.transform.LayerNorm.weight', 'cls.seq_relationship.weight', 'cls.predictions.decoder.bias', 'cls.predictions.transform.dense.weight', 'cls.predictions.decoder.weight', 'cls.predictions.transform.dense.bias', 'cls.predictions.bias', 'cls.seq_relationship.bias']\n",
            "- This IS expected if you are initializing BertForSequenceClassification from the checkpoint of a model trained on another task or with another architecture (e.g. initializing a BertForSequenceClassification model from a BertForPreTraining model).\n",
            "- This IS NOT expected if you are initializing BertForSequenceClassification from the checkpoint of a model that you expect to be exactly identical (initializing a BertForSequenceClassification model from a BertForSequenceClassification model).\n",
            "Some weights of BertForSequenceClassification were not initialized from the model checkpoint at HooshvareLab/bert-fa-base-uncased and are newly initialized: ['classifier.bias', 'classifier.weight']\n",
            "You should probably TRAIN this model on a down-stream task to be able to use it for predictions and inference.\n"
          ]
        },
        {
          "output_type": "stream",
          "name": "stdout",
          "text": [
            "+---------------------------------------------------------+------------+\n",
            "|                         Modules                         | Parameters |\n",
            "+---------------------------------------------------------+------------+\n",
            "|          bert.embeddings.word_embeddings.weight         |  76800000  |\n",
            "|        bert.embeddings.position_embeddings.weight       |   393216   |\n",
            "|       bert.embeddings.token_type_embeddings.weight      |    1536    |\n",
            "|             bert.embeddings.LayerNorm.weight            |    768     |\n",
            "|              bert.embeddings.LayerNorm.bias             |    768     |\n",
            "|     bert.encoder.layer.0.attention.self.query.weight    |   589824   |\n",
            "|      bert.encoder.layer.0.attention.self.query.bias     |    768     |\n",
            "|      bert.encoder.layer.0.attention.self.key.weight     |   589824   |\n",
            "|       bert.encoder.layer.0.attention.self.key.bias      |    768     |\n",
            "|     bert.encoder.layer.0.attention.self.value.weight    |   589824   |\n",
            "|      bert.encoder.layer.0.attention.self.value.bias     |    768     |\n",
            "|    bert.encoder.layer.0.attention.output.dense.weight   |   589824   |\n",
            "|     bert.encoder.layer.0.attention.output.dense.bias    |    768     |\n",
            "|  bert.encoder.layer.0.attention.output.LayerNorm.weight |    768     |\n",
            "|   bert.encoder.layer.0.attention.output.LayerNorm.bias  |    768     |\n",
            "|      bert.encoder.layer.0.intermediate.dense.weight     |  2359296   |\n",
            "|       bert.encoder.layer.0.intermediate.dense.bias      |    3072    |\n",
            "|         bert.encoder.layer.0.output.dense.weight        |  2359296   |\n",
            "|          bert.encoder.layer.0.output.dense.bias         |    768     |\n",
            "|       bert.encoder.layer.0.output.LayerNorm.weight      |    768     |\n",
            "|        bert.encoder.layer.0.output.LayerNorm.bias       |    768     |\n",
            "|     bert.encoder.layer.1.attention.self.query.weight    |   589824   |\n",
            "|      bert.encoder.layer.1.attention.self.query.bias     |    768     |\n",
            "|      bert.encoder.layer.1.attention.self.key.weight     |   589824   |\n",
            "|       bert.encoder.layer.1.attention.self.key.bias      |    768     |\n",
            "|     bert.encoder.layer.1.attention.self.value.weight    |   589824   |\n",
            "|      bert.encoder.layer.1.attention.self.value.bias     |    768     |\n",
            "|    bert.encoder.layer.1.attention.output.dense.weight   |   589824   |\n",
            "|     bert.encoder.layer.1.attention.output.dense.bias    |    768     |\n",
            "|  bert.encoder.layer.1.attention.output.LayerNorm.weight |    768     |\n",
            "|   bert.encoder.layer.1.attention.output.LayerNorm.bias  |    768     |\n",
            "|      bert.encoder.layer.1.intermediate.dense.weight     |  2359296   |\n",
            "|       bert.encoder.layer.1.intermediate.dense.bias      |    3072    |\n",
            "|         bert.encoder.layer.1.output.dense.weight        |  2359296   |\n",
            "|          bert.encoder.layer.1.output.dense.bias         |    768     |\n",
            "|       bert.encoder.layer.1.output.LayerNorm.weight      |    768     |\n",
            "|        bert.encoder.layer.1.output.LayerNorm.bias       |    768     |\n",
            "|     bert.encoder.layer.2.attention.self.query.weight    |   589824   |\n",
            "|      bert.encoder.layer.2.attention.self.query.bias     |    768     |\n",
            "|      bert.encoder.layer.2.attention.self.key.weight     |   589824   |\n",
            "|       bert.encoder.layer.2.attention.self.key.bias      |    768     |\n",
            "|     bert.encoder.layer.2.attention.self.value.weight    |   589824   |\n",
            "|      bert.encoder.layer.2.attention.self.value.bias     |    768     |\n",
            "|    bert.encoder.layer.2.attention.output.dense.weight   |   589824   |\n",
            "|     bert.encoder.layer.2.attention.output.dense.bias    |    768     |\n",
            "|  bert.encoder.layer.2.attention.output.LayerNorm.weight |    768     |\n",
            "|   bert.encoder.layer.2.attention.output.LayerNorm.bias  |    768     |\n",
            "|      bert.encoder.layer.2.intermediate.dense.weight     |  2359296   |\n",
            "|       bert.encoder.layer.2.intermediate.dense.bias      |    3072    |\n",
            "|         bert.encoder.layer.2.output.dense.weight        |  2359296   |\n",
            "|          bert.encoder.layer.2.output.dense.bias         |    768     |\n",
            "|       bert.encoder.layer.2.output.LayerNorm.weight      |    768     |\n",
            "|        bert.encoder.layer.2.output.LayerNorm.bias       |    768     |\n",
            "|     bert.encoder.layer.3.attention.self.query.weight    |   589824   |\n",
            "|      bert.encoder.layer.3.attention.self.query.bias     |    768     |\n",
            "|      bert.encoder.layer.3.attention.self.key.weight     |   589824   |\n",
            "|       bert.encoder.layer.3.attention.self.key.bias      |    768     |\n",
            "|     bert.encoder.layer.3.attention.self.value.weight    |   589824   |\n",
            "|      bert.encoder.layer.3.attention.self.value.bias     |    768     |\n",
            "|    bert.encoder.layer.3.attention.output.dense.weight   |   589824   |\n",
            "|     bert.encoder.layer.3.attention.output.dense.bias    |    768     |\n",
            "|  bert.encoder.layer.3.attention.output.LayerNorm.weight |    768     |\n",
            "|   bert.encoder.layer.3.attention.output.LayerNorm.bias  |    768     |\n",
            "|      bert.encoder.layer.3.intermediate.dense.weight     |  2359296   |\n",
            "|       bert.encoder.layer.3.intermediate.dense.bias      |    3072    |\n",
            "|         bert.encoder.layer.3.output.dense.weight        |  2359296   |\n",
            "|          bert.encoder.layer.3.output.dense.bias         |    768     |\n",
            "|       bert.encoder.layer.3.output.LayerNorm.weight      |    768     |\n",
            "|        bert.encoder.layer.3.output.LayerNorm.bias       |    768     |\n",
            "|     bert.encoder.layer.4.attention.self.query.weight    |   589824   |\n",
            "|      bert.encoder.layer.4.attention.self.query.bias     |    768     |\n",
            "|      bert.encoder.layer.4.attention.self.key.weight     |   589824   |\n",
            "|       bert.encoder.layer.4.attention.self.key.bias      |    768     |\n",
            "|     bert.encoder.layer.4.attention.self.value.weight    |   589824   |\n",
            "|      bert.encoder.layer.4.attention.self.value.bias     |    768     |\n",
            "|    bert.encoder.layer.4.attention.output.dense.weight   |   589824   |\n",
            "|     bert.encoder.layer.4.attention.output.dense.bias    |    768     |\n",
            "|  bert.encoder.layer.4.attention.output.LayerNorm.weight |    768     |\n",
            "|   bert.encoder.layer.4.attention.output.LayerNorm.bias  |    768     |\n",
            "|      bert.encoder.layer.4.intermediate.dense.weight     |  2359296   |\n",
            "|       bert.encoder.layer.4.intermediate.dense.bias      |    3072    |\n",
            "|         bert.encoder.layer.4.output.dense.weight        |  2359296   |\n",
            "|          bert.encoder.layer.4.output.dense.bias         |    768     |\n",
            "|       bert.encoder.layer.4.output.LayerNorm.weight      |    768     |\n",
            "|        bert.encoder.layer.4.output.LayerNorm.bias       |    768     |\n",
            "|     bert.encoder.layer.5.attention.self.query.weight    |   589824   |\n",
            "|      bert.encoder.layer.5.attention.self.query.bias     |    768     |\n",
            "|      bert.encoder.layer.5.attention.self.key.weight     |   589824   |\n",
            "|       bert.encoder.layer.5.attention.self.key.bias      |    768     |\n",
            "|     bert.encoder.layer.5.attention.self.value.weight    |   589824   |\n",
            "|      bert.encoder.layer.5.attention.self.value.bias     |    768     |\n",
            "|    bert.encoder.layer.5.attention.output.dense.weight   |   589824   |\n",
            "|     bert.encoder.layer.5.attention.output.dense.bias    |    768     |\n",
            "|  bert.encoder.layer.5.attention.output.LayerNorm.weight |    768     |\n",
            "|   bert.encoder.layer.5.attention.output.LayerNorm.bias  |    768     |\n",
            "|      bert.encoder.layer.5.intermediate.dense.weight     |  2359296   |\n",
            "|       bert.encoder.layer.5.intermediate.dense.bias      |    3072    |\n",
            "|         bert.encoder.layer.5.output.dense.weight        |  2359296   |\n",
            "|          bert.encoder.layer.5.output.dense.bias         |    768     |\n",
            "|       bert.encoder.layer.5.output.LayerNorm.weight      |    768     |\n",
            "|        bert.encoder.layer.5.output.LayerNorm.bias       |    768     |\n",
            "|     bert.encoder.layer.6.attention.self.query.weight    |   589824   |\n",
            "|      bert.encoder.layer.6.attention.self.query.bias     |    768     |\n",
            "|      bert.encoder.layer.6.attention.self.key.weight     |   589824   |\n",
            "|       bert.encoder.layer.6.attention.self.key.bias      |    768     |\n",
            "|     bert.encoder.layer.6.attention.self.value.weight    |   589824   |\n",
            "|      bert.encoder.layer.6.attention.self.value.bias     |    768     |\n",
            "|    bert.encoder.layer.6.attention.output.dense.weight   |   589824   |\n",
            "|     bert.encoder.layer.6.attention.output.dense.bias    |    768     |\n",
            "|  bert.encoder.layer.6.attention.output.LayerNorm.weight |    768     |\n",
            "|   bert.encoder.layer.6.attention.output.LayerNorm.bias  |    768     |\n",
            "|      bert.encoder.layer.6.intermediate.dense.weight     |  2359296   |\n",
            "|       bert.encoder.layer.6.intermediate.dense.bias      |    3072    |\n",
            "|         bert.encoder.layer.6.output.dense.weight        |  2359296   |\n",
            "|          bert.encoder.layer.6.output.dense.bias         |    768     |\n",
            "|       bert.encoder.layer.6.output.LayerNorm.weight      |    768     |\n",
            "|        bert.encoder.layer.6.output.LayerNorm.bias       |    768     |\n",
            "|     bert.encoder.layer.7.attention.self.query.weight    |   589824   |\n",
            "|      bert.encoder.layer.7.attention.self.query.bias     |    768     |\n",
            "|      bert.encoder.layer.7.attention.self.key.weight     |   589824   |\n",
            "|       bert.encoder.layer.7.attention.self.key.bias      |    768     |\n",
            "|     bert.encoder.layer.7.attention.self.value.weight    |   589824   |\n",
            "|      bert.encoder.layer.7.attention.self.value.bias     |    768     |\n",
            "|    bert.encoder.layer.7.attention.output.dense.weight   |   589824   |\n",
            "|     bert.encoder.layer.7.attention.output.dense.bias    |    768     |\n",
            "|  bert.encoder.layer.7.attention.output.LayerNorm.weight |    768     |\n",
            "|   bert.encoder.layer.7.attention.output.LayerNorm.bias  |    768     |\n",
            "|      bert.encoder.layer.7.intermediate.dense.weight     |  2359296   |\n",
            "|       bert.encoder.layer.7.intermediate.dense.bias      |    3072    |\n",
            "|         bert.encoder.layer.7.output.dense.weight        |  2359296   |\n",
            "|          bert.encoder.layer.7.output.dense.bias         |    768     |\n",
            "|       bert.encoder.layer.7.output.LayerNorm.weight      |    768     |\n",
            "|        bert.encoder.layer.7.output.LayerNorm.bias       |    768     |\n",
            "|     bert.encoder.layer.8.attention.self.query.weight    |   589824   |\n",
            "|      bert.encoder.layer.8.attention.self.query.bias     |    768     |\n",
            "|      bert.encoder.layer.8.attention.self.key.weight     |   589824   |\n",
            "|       bert.encoder.layer.8.attention.self.key.bias      |    768     |\n",
            "|     bert.encoder.layer.8.attention.self.value.weight    |   589824   |\n",
            "|      bert.encoder.layer.8.attention.self.value.bias     |    768     |\n",
            "|    bert.encoder.layer.8.attention.output.dense.weight   |   589824   |\n",
            "|     bert.encoder.layer.8.attention.output.dense.bias    |    768     |\n",
            "|  bert.encoder.layer.8.attention.output.LayerNorm.weight |    768     |\n",
            "|   bert.encoder.layer.8.attention.output.LayerNorm.bias  |    768     |\n",
            "|      bert.encoder.layer.8.intermediate.dense.weight     |  2359296   |\n",
            "|       bert.encoder.layer.8.intermediate.dense.bias      |    3072    |\n",
            "|         bert.encoder.layer.8.output.dense.weight        |  2359296   |\n",
            "|          bert.encoder.layer.8.output.dense.bias         |    768     |\n",
            "|       bert.encoder.layer.8.output.LayerNorm.weight      |    768     |\n",
            "|        bert.encoder.layer.8.output.LayerNorm.bias       |    768     |\n",
            "|     bert.encoder.layer.9.attention.self.query.weight    |   589824   |\n",
            "|      bert.encoder.layer.9.attention.self.query.bias     |    768     |\n",
            "|      bert.encoder.layer.9.attention.self.key.weight     |   589824   |\n",
            "|       bert.encoder.layer.9.attention.self.key.bias      |    768     |\n",
            "|     bert.encoder.layer.9.attention.self.value.weight    |   589824   |\n",
            "|      bert.encoder.layer.9.attention.self.value.bias     |    768     |\n",
            "|    bert.encoder.layer.9.attention.output.dense.weight   |   589824   |\n",
            "|     bert.encoder.layer.9.attention.output.dense.bias    |    768     |\n",
            "|  bert.encoder.layer.9.attention.output.LayerNorm.weight |    768     |\n",
            "|   bert.encoder.layer.9.attention.output.LayerNorm.bias  |    768     |\n",
            "|      bert.encoder.layer.9.intermediate.dense.weight     |  2359296   |\n",
            "|       bert.encoder.layer.9.intermediate.dense.bias      |    3072    |\n",
            "|         bert.encoder.layer.9.output.dense.weight        |  2359296   |\n",
            "|          bert.encoder.layer.9.output.dense.bias         |    768     |\n",
            "|       bert.encoder.layer.9.output.LayerNorm.weight      |    768     |\n",
            "|        bert.encoder.layer.9.output.LayerNorm.bias       |    768     |\n",
            "|    bert.encoder.layer.10.attention.self.query.weight    |   589824   |\n",
            "|     bert.encoder.layer.10.attention.self.query.bias     |    768     |\n",
            "|     bert.encoder.layer.10.attention.self.key.weight     |   589824   |\n",
            "|      bert.encoder.layer.10.attention.self.key.bias      |    768     |\n",
            "|    bert.encoder.layer.10.attention.self.value.weight    |   589824   |\n",
            "|     bert.encoder.layer.10.attention.self.value.bias     |    768     |\n",
            "|   bert.encoder.layer.10.attention.output.dense.weight   |   589824   |\n",
            "|    bert.encoder.layer.10.attention.output.dense.bias    |    768     |\n",
            "| bert.encoder.layer.10.attention.output.LayerNorm.weight |    768     |\n",
            "|  bert.encoder.layer.10.attention.output.LayerNorm.bias  |    768     |\n",
            "|     bert.encoder.layer.10.intermediate.dense.weight     |  2359296   |\n",
            "|      bert.encoder.layer.10.intermediate.dense.bias      |    3072    |\n",
            "|        bert.encoder.layer.10.output.dense.weight        |  2359296   |\n",
            "|         bert.encoder.layer.10.output.dense.bias         |    768     |\n",
            "|      bert.encoder.layer.10.output.LayerNorm.weight      |    768     |\n",
            "|       bert.encoder.layer.10.output.LayerNorm.bias       |    768     |\n",
            "|    bert.encoder.layer.11.attention.self.query.weight    |   589824   |\n",
            "|     bert.encoder.layer.11.attention.self.query.bias     |    768     |\n",
            "|     bert.encoder.layer.11.attention.self.key.weight     |   589824   |\n",
            "|      bert.encoder.layer.11.attention.self.key.bias      |    768     |\n",
            "|    bert.encoder.layer.11.attention.self.value.weight    |   589824   |\n",
            "|     bert.encoder.layer.11.attention.self.value.bias     |    768     |\n",
            "|   bert.encoder.layer.11.attention.output.dense.weight   |   589824   |\n",
            "|    bert.encoder.layer.11.attention.output.dense.bias    |    768     |\n",
            "| bert.encoder.layer.11.attention.output.LayerNorm.weight |    768     |\n",
            "|  bert.encoder.layer.11.attention.output.LayerNorm.bias  |    768     |\n",
            "|     bert.encoder.layer.11.intermediate.dense.weight     |  2359296   |\n",
            "|      bert.encoder.layer.11.intermediate.dense.bias      |    3072    |\n",
            "|        bert.encoder.layer.11.output.dense.weight        |  2359296   |\n",
            "|         bert.encoder.layer.11.output.dense.bias         |    768     |\n",
            "|      bert.encoder.layer.11.output.LayerNorm.weight      |    768     |\n",
            "|       bert.encoder.layer.11.output.LayerNorm.bias       |    768     |\n",
            "|                 bert.pooler.dense.weight                |   589824   |\n",
            "|                  bert.pooler.dense.bias                 |    768     |\n",
            "|                    classifier.weight                    |    7680    |\n",
            "|                     classifier.bias                     |     10     |\n",
            "+---------------------------------------------------------+------------+\n",
            "Total Trainable Params: 162849034\n"
          ]
        },
        {
          "output_type": "execute_result",
          "data": {
            "text/plain": [
              "BertForSequenceClassification(\n",
              "  (bert): BertModel(\n",
              "    (embeddings): BertEmbeddings(\n",
              "      (word_embeddings): Embedding(100000, 768, padding_idx=0)\n",
              "      (position_embeddings): Embedding(512, 768)\n",
              "      (token_type_embeddings): Embedding(2, 768)\n",
              "      (LayerNorm): LayerNorm((768,), eps=1e-12, elementwise_affine=True)\n",
              "      (dropout): Dropout(p=0.1, inplace=False)\n",
              "    )\n",
              "    (encoder): BertEncoder(\n",
              "      (layer): ModuleList(\n",
              "        (0): BertLayer(\n",
              "          (attention): BertAttention(\n",
              "            (self): BertSelfAttention(\n",
              "              (query): Linear(in_features=768, out_features=768, bias=True)\n",
              "              (key): Linear(in_features=768, out_features=768, bias=True)\n",
              "              (value): Linear(in_features=768, out_features=768, bias=True)\n",
              "              (dropout): Dropout(p=0.1, inplace=False)\n",
              "            )\n",
              "            (output): BertSelfOutput(\n",
              "              (dense): Linear(in_features=768, out_features=768, bias=True)\n",
              "              (LayerNorm): LayerNorm((768,), eps=1e-12, elementwise_affine=True)\n",
              "              (dropout): Dropout(p=0.1, inplace=False)\n",
              "            )\n",
              "          )\n",
              "          (intermediate): BertIntermediate(\n",
              "            (dense): Linear(in_features=768, out_features=3072, bias=True)\n",
              "            (intermediate_act_fn): GELUActivation()\n",
              "          )\n",
              "          (output): BertOutput(\n",
              "            (dense): Linear(in_features=3072, out_features=768, bias=True)\n",
              "            (LayerNorm): LayerNorm((768,), eps=1e-12, elementwise_affine=True)\n",
              "            (dropout): Dropout(p=0.1, inplace=False)\n",
              "          )\n",
              "        )\n",
              "        (1): BertLayer(\n",
              "          (attention): BertAttention(\n",
              "            (self): BertSelfAttention(\n",
              "              (query): Linear(in_features=768, out_features=768, bias=True)\n",
              "              (key): Linear(in_features=768, out_features=768, bias=True)\n",
              "              (value): Linear(in_features=768, out_features=768, bias=True)\n",
              "              (dropout): Dropout(p=0.1, inplace=False)\n",
              "            )\n",
              "            (output): BertSelfOutput(\n",
              "              (dense): Linear(in_features=768, out_features=768, bias=True)\n",
              "              (LayerNorm): LayerNorm((768,), eps=1e-12, elementwise_affine=True)\n",
              "              (dropout): Dropout(p=0.1, inplace=False)\n",
              "            )\n",
              "          )\n",
              "          (intermediate): BertIntermediate(\n",
              "            (dense): Linear(in_features=768, out_features=3072, bias=True)\n",
              "            (intermediate_act_fn): GELUActivation()\n",
              "          )\n",
              "          (output): BertOutput(\n",
              "            (dense): Linear(in_features=3072, out_features=768, bias=True)\n",
              "            (LayerNorm): LayerNorm((768,), eps=1e-12, elementwise_affine=True)\n",
              "            (dropout): Dropout(p=0.1, inplace=False)\n",
              "          )\n",
              "        )\n",
              "        (2): BertLayer(\n",
              "          (attention): BertAttention(\n",
              "            (self): BertSelfAttention(\n",
              "              (query): Linear(in_features=768, out_features=768, bias=True)\n",
              "              (key): Linear(in_features=768, out_features=768, bias=True)\n",
              "              (value): Linear(in_features=768, out_features=768, bias=True)\n",
              "              (dropout): Dropout(p=0.1, inplace=False)\n",
              "            )\n",
              "            (output): BertSelfOutput(\n",
              "              (dense): Linear(in_features=768, out_features=768, bias=True)\n",
              "              (LayerNorm): LayerNorm((768,), eps=1e-12, elementwise_affine=True)\n",
              "              (dropout): Dropout(p=0.1, inplace=False)\n",
              "            )\n",
              "          )\n",
              "          (intermediate): BertIntermediate(\n",
              "            (dense): Linear(in_features=768, out_features=3072, bias=True)\n",
              "            (intermediate_act_fn): GELUActivation()\n",
              "          )\n",
              "          (output): BertOutput(\n",
              "            (dense): Linear(in_features=3072, out_features=768, bias=True)\n",
              "            (LayerNorm): LayerNorm((768,), eps=1e-12, elementwise_affine=True)\n",
              "            (dropout): Dropout(p=0.1, inplace=False)\n",
              "          )\n",
              "        )\n",
              "        (3): BertLayer(\n",
              "          (attention): BertAttention(\n",
              "            (self): BertSelfAttention(\n",
              "              (query): Linear(in_features=768, out_features=768, bias=True)\n",
              "              (key): Linear(in_features=768, out_features=768, bias=True)\n",
              "              (value): Linear(in_features=768, out_features=768, bias=True)\n",
              "              (dropout): Dropout(p=0.1, inplace=False)\n",
              "            )\n",
              "            (output): BertSelfOutput(\n",
              "              (dense): Linear(in_features=768, out_features=768, bias=True)\n",
              "              (LayerNorm): LayerNorm((768,), eps=1e-12, elementwise_affine=True)\n",
              "              (dropout): Dropout(p=0.1, inplace=False)\n",
              "            )\n",
              "          )\n",
              "          (intermediate): BertIntermediate(\n",
              "            (dense): Linear(in_features=768, out_features=3072, bias=True)\n",
              "            (intermediate_act_fn): GELUActivation()\n",
              "          )\n",
              "          (output): BertOutput(\n",
              "            (dense): Linear(in_features=3072, out_features=768, bias=True)\n",
              "            (LayerNorm): LayerNorm((768,), eps=1e-12, elementwise_affine=True)\n",
              "            (dropout): Dropout(p=0.1, inplace=False)\n",
              "          )\n",
              "        )\n",
              "        (4): BertLayer(\n",
              "          (attention): BertAttention(\n",
              "            (self): BertSelfAttention(\n",
              "              (query): Linear(in_features=768, out_features=768, bias=True)\n",
              "              (key): Linear(in_features=768, out_features=768, bias=True)\n",
              "              (value): Linear(in_features=768, out_features=768, bias=True)\n",
              "              (dropout): Dropout(p=0.1, inplace=False)\n",
              "            )\n",
              "            (output): BertSelfOutput(\n",
              "              (dense): Linear(in_features=768, out_features=768, bias=True)\n",
              "              (LayerNorm): LayerNorm((768,), eps=1e-12, elementwise_affine=True)\n",
              "              (dropout): Dropout(p=0.1, inplace=False)\n",
              "            )\n",
              "          )\n",
              "          (intermediate): BertIntermediate(\n",
              "            (dense): Linear(in_features=768, out_features=3072, bias=True)\n",
              "            (intermediate_act_fn): GELUActivation()\n",
              "          )\n",
              "          (output): BertOutput(\n",
              "            (dense): Linear(in_features=3072, out_features=768, bias=True)\n",
              "            (LayerNorm): LayerNorm((768,), eps=1e-12, elementwise_affine=True)\n",
              "            (dropout): Dropout(p=0.1, inplace=False)\n",
              "          )\n",
              "        )\n",
              "        (5): BertLayer(\n",
              "          (attention): BertAttention(\n",
              "            (self): BertSelfAttention(\n",
              "              (query): Linear(in_features=768, out_features=768, bias=True)\n",
              "              (key): Linear(in_features=768, out_features=768, bias=True)\n",
              "              (value): Linear(in_features=768, out_features=768, bias=True)\n",
              "              (dropout): Dropout(p=0.1, inplace=False)\n",
              "            )\n",
              "            (output): BertSelfOutput(\n",
              "              (dense): Linear(in_features=768, out_features=768, bias=True)\n",
              "              (LayerNorm): LayerNorm((768,), eps=1e-12, elementwise_affine=True)\n",
              "              (dropout): Dropout(p=0.1, inplace=False)\n",
              "            )\n",
              "          )\n",
              "          (intermediate): BertIntermediate(\n",
              "            (dense): Linear(in_features=768, out_features=3072, bias=True)\n",
              "            (intermediate_act_fn): GELUActivation()\n",
              "          )\n",
              "          (output): BertOutput(\n",
              "            (dense): Linear(in_features=3072, out_features=768, bias=True)\n",
              "            (LayerNorm): LayerNorm((768,), eps=1e-12, elementwise_affine=True)\n",
              "            (dropout): Dropout(p=0.1, inplace=False)\n",
              "          )\n",
              "        )\n",
              "        (6): BertLayer(\n",
              "          (attention): BertAttention(\n",
              "            (self): BertSelfAttention(\n",
              "              (query): Linear(in_features=768, out_features=768, bias=True)\n",
              "              (key): Linear(in_features=768, out_features=768, bias=True)\n",
              "              (value): Linear(in_features=768, out_features=768, bias=True)\n",
              "              (dropout): Dropout(p=0.1, inplace=False)\n",
              "            )\n",
              "            (output): BertSelfOutput(\n",
              "              (dense): Linear(in_features=768, out_features=768, bias=True)\n",
              "              (LayerNorm): LayerNorm((768,), eps=1e-12, elementwise_affine=True)\n",
              "              (dropout): Dropout(p=0.1, inplace=False)\n",
              "            )\n",
              "          )\n",
              "          (intermediate): BertIntermediate(\n",
              "            (dense): Linear(in_features=768, out_features=3072, bias=True)\n",
              "            (intermediate_act_fn): GELUActivation()\n",
              "          )\n",
              "          (output): BertOutput(\n",
              "            (dense): Linear(in_features=3072, out_features=768, bias=True)\n",
              "            (LayerNorm): LayerNorm((768,), eps=1e-12, elementwise_affine=True)\n",
              "            (dropout): Dropout(p=0.1, inplace=False)\n",
              "          )\n",
              "        )\n",
              "        (7): BertLayer(\n",
              "          (attention): BertAttention(\n",
              "            (self): BertSelfAttention(\n",
              "              (query): Linear(in_features=768, out_features=768, bias=True)\n",
              "              (key): Linear(in_features=768, out_features=768, bias=True)\n",
              "              (value): Linear(in_features=768, out_features=768, bias=True)\n",
              "              (dropout): Dropout(p=0.1, inplace=False)\n",
              "            )\n",
              "            (output): BertSelfOutput(\n",
              "              (dense): Linear(in_features=768, out_features=768, bias=True)\n",
              "              (LayerNorm): LayerNorm((768,), eps=1e-12, elementwise_affine=True)\n",
              "              (dropout): Dropout(p=0.1, inplace=False)\n",
              "            )\n",
              "          )\n",
              "          (intermediate): BertIntermediate(\n",
              "            (dense): Linear(in_features=768, out_features=3072, bias=True)\n",
              "            (intermediate_act_fn): GELUActivation()\n",
              "          )\n",
              "          (output): BertOutput(\n",
              "            (dense): Linear(in_features=3072, out_features=768, bias=True)\n",
              "            (LayerNorm): LayerNorm((768,), eps=1e-12, elementwise_affine=True)\n",
              "            (dropout): Dropout(p=0.1, inplace=False)\n",
              "          )\n",
              "        )\n",
              "        (8): BertLayer(\n",
              "          (attention): BertAttention(\n",
              "            (self): BertSelfAttention(\n",
              "              (query): Linear(in_features=768, out_features=768, bias=True)\n",
              "              (key): Linear(in_features=768, out_features=768, bias=True)\n",
              "              (value): Linear(in_features=768, out_features=768, bias=True)\n",
              "              (dropout): Dropout(p=0.1, inplace=False)\n",
              "            )\n",
              "            (output): BertSelfOutput(\n",
              "              (dense): Linear(in_features=768, out_features=768, bias=True)\n",
              "              (LayerNorm): LayerNorm((768,), eps=1e-12, elementwise_affine=True)\n",
              "              (dropout): Dropout(p=0.1, inplace=False)\n",
              "            )\n",
              "          )\n",
              "          (intermediate): BertIntermediate(\n",
              "            (dense): Linear(in_features=768, out_features=3072, bias=True)\n",
              "            (intermediate_act_fn): GELUActivation()\n",
              "          )\n",
              "          (output): BertOutput(\n",
              "            (dense): Linear(in_features=3072, out_features=768, bias=True)\n",
              "            (LayerNorm): LayerNorm((768,), eps=1e-12, elementwise_affine=True)\n",
              "            (dropout): Dropout(p=0.1, inplace=False)\n",
              "          )\n",
              "        )\n",
              "        (9): BertLayer(\n",
              "          (attention): BertAttention(\n",
              "            (self): BertSelfAttention(\n",
              "              (query): Linear(in_features=768, out_features=768, bias=True)\n",
              "              (key): Linear(in_features=768, out_features=768, bias=True)\n",
              "              (value): Linear(in_features=768, out_features=768, bias=True)\n",
              "              (dropout): Dropout(p=0.1, inplace=False)\n",
              "            )\n",
              "            (output): BertSelfOutput(\n",
              "              (dense): Linear(in_features=768, out_features=768, bias=True)\n",
              "              (LayerNorm): LayerNorm((768,), eps=1e-12, elementwise_affine=True)\n",
              "              (dropout): Dropout(p=0.1, inplace=False)\n",
              "            )\n",
              "          )\n",
              "          (intermediate): BertIntermediate(\n",
              "            (dense): Linear(in_features=768, out_features=3072, bias=True)\n",
              "            (intermediate_act_fn): GELUActivation()\n",
              "          )\n",
              "          (output): BertOutput(\n",
              "            (dense): Linear(in_features=3072, out_features=768, bias=True)\n",
              "            (LayerNorm): LayerNorm((768,), eps=1e-12, elementwise_affine=True)\n",
              "            (dropout): Dropout(p=0.1, inplace=False)\n",
              "          )\n",
              "        )\n",
              "        (10): BertLayer(\n",
              "          (attention): BertAttention(\n",
              "            (self): BertSelfAttention(\n",
              "              (query): Linear(in_features=768, out_features=768, bias=True)\n",
              "              (key): Linear(in_features=768, out_features=768, bias=True)\n",
              "              (value): Linear(in_features=768, out_features=768, bias=True)\n",
              "              (dropout): Dropout(p=0.1, inplace=False)\n",
              "            )\n",
              "            (output): BertSelfOutput(\n",
              "              (dense): Linear(in_features=768, out_features=768, bias=True)\n",
              "              (LayerNorm): LayerNorm((768,), eps=1e-12, elementwise_affine=True)\n",
              "              (dropout): Dropout(p=0.1, inplace=False)\n",
              "            )\n",
              "          )\n",
              "          (intermediate): BertIntermediate(\n",
              "            (dense): Linear(in_features=768, out_features=3072, bias=True)\n",
              "            (intermediate_act_fn): GELUActivation()\n",
              "          )\n",
              "          (output): BertOutput(\n",
              "            (dense): Linear(in_features=3072, out_features=768, bias=True)\n",
              "            (LayerNorm): LayerNorm((768,), eps=1e-12, elementwise_affine=True)\n",
              "            (dropout): Dropout(p=0.1, inplace=False)\n",
              "          )\n",
              "        )\n",
              "        (11): BertLayer(\n",
              "          (attention): BertAttention(\n",
              "            (self): BertSelfAttention(\n",
              "              (query): Linear(in_features=768, out_features=768, bias=True)\n",
              "              (key): Linear(in_features=768, out_features=768, bias=True)\n",
              "              (value): Linear(in_features=768, out_features=768, bias=True)\n",
              "              (dropout): Dropout(p=0.1, inplace=False)\n",
              "            )\n",
              "            (output): BertSelfOutput(\n",
              "              (dense): Linear(in_features=768, out_features=768, bias=True)\n",
              "              (LayerNorm): LayerNorm((768,), eps=1e-12, elementwise_affine=True)\n",
              "              (dropout): Dropout(p=0.1, inplace=False)\n",
              "            )\n",
              "          )\n",
              "          (intermediate): BertIntermediate(\n",
              "            (dense): Linear(in_features=768, out_features=3072, bias=True)\n",
              "            (intermediate_act_fn): GELUActivation()\n",
              "          )\n",
              "          (output): BertOutput(\n",
              "            (dense): Linear(in_features=3072, out_features=768, bias=True)\n",
              "            (LayerNorm): LayerNorm((768,), eps=1e-12, elementwise_affine=True)\n",
              "            (dropout): Dropout(p=0.1, inplace=False)\n",
              "          )\n",
              "        )\n",
              "      )\n",
              "    )\n",
              "    (pooler): BertPooler(\n",
              "      (dense): Linear(in_features=768, out_features=768, bias=True)\n",
              "      (activation): Tanh()\n",
              "    )\n",
              "  )\n",
              "  (dropout): Dropout(p=0.1, inplace=False)\n",
              "  (classifier): Linear(in_features=768, out_features=10, bias=True)\n",
              ")"
            ]
          },
          "metadata": {},
          "execution_count": 86
        }
      ]
    },
    {
      "cell_type": "code",
      "source": [
        "def fine_tuned_train_loop(dataloader, model, loss_fn, optimizer):\n",
        "    size = len(dataloader.dataset)\n",
        "    for batch, data in enumerate(dataloader):\n",
        "        input_ids = data[0].to(device)\n",
        "        input_mask = data[1].to(device)\n",
        "        labels = data[2].to(device)\n",
        "        input_ids = input_ids.to(device)\n",
        "        input_mask = input_mask.to(device)\n",
        "        labels = labels.to(device)\n",
        "        model.train()\n",
        "\n",
        "        loss = model(input_ids, \n",
        "                    token_type_ids=None, \n",
        "                    attention_mask=input_mask, \n",
        "                    labels=labels).loss\n",
        "        # Backpropagation\n",
        "        optimizer.zero_grad()\n",
        "        loss.backward()\n",
        "        torch.nn.utils.clip_grad_norm_(model.parameters(), 1.0)\n",
        "        optimizer.step()\n",
        "        if batch % 100 == 0:\n",
        "            loss, current = loss.item(), batch * len(input_ids)\n",
        "            print(f\"loss: {loss:>7f}  [{current:>5d}/{size:>5d}]\")\n",
        "\n",
        "\n",
        "def fine_tuned_test_loop(dataloader, model, loss_fn):\n",
        "    size = len(dataloader.dataset)\n",
        "    num_batches = len(dataloader)\n",
        "    test_loss, correct = 0, 0\n",
        "    \n",
        "    with torch.no_grad():\n",
        "        for data in dataloader:\n",
        "            input_ids = data[0].to(device)\n",
        "            input_mask = data[1].to(device)\n",
        "            labels = data[2].to(device)\n",
        "            input_ids = input_ids.to(device)\n",
        "            input_mask = input_mask.to(device)\n",
        "            labels = labels.to(device)\n",
        "            model.eval()\n",
        "\n",
        "            loss = model(input_ids, \n",
        "                    token_type_ids=None, \n",
        "                    attention_mask=input_mask, \n",
        "                    labels=labels).loss\n",
        "            pred = model(input_ids, \n",
        "                    token_type_ids=None, \n",
        "                    attention_mask=input_mask, \n",
        "                    labels=labels).logits\n",
        "\n",
        "            test_loss += loss_fn(pred, labels).item()\n",
        "            correct += (pred.argmax(1).flatten() == labels.flatten()).type(torch.float).sum().item()\n",
        "\n",
        "    test_loss /= num_batches\n",
        "    correct /= size\n",
        "    print(f\"Test Error: \\n Accuracy: {(100*correct):>0.1f}%, Avg loss: {test_loss:>8f} \\n\")\n",
        "    return correct,test_loss"
      ],
      "metadata": {
        "id": "GE_5i6vE-8gj"
      },
      "execution_count": 87,
      "outputs": []
    },
    {
      "cell_type": "markdown",
      "source": [
        "#Training Fine Tuned Model With ADAM#"
      ],
      "metadata": {
        "id": "miCwzYQy-dBC"
      }
    },
    {
      "cell_type": "code",
      "source": [
        "loss_fn = nn.CrossEntropyLoss()\n",
        "epochs = 2\n",
        "optimizer = torch.optim.Adam(model_fine_tuned.parameters(), lr = 1e-4)  \n",
        "val_accuracy = []\n",
        "for t in range(epochs):\n",
        "    print(f\"Epoch {t+1}\\n-------------------------------\")\n",
        "    fine_tuned_train_loop(train_dataloader,model_fine_tuned, loss_fn, optimizer)\n",
        "    val_accuracy.append(fine_tuned_test_loop(val_dataloader, model_fine_tuned, loss_fn)[0])\n",
        "    if np.argmax(val_accuracy) ==len(val_accuracy)-1:\n",
        "      torch.save(model_fine_tuned,' model_fine_tuned.pth')\n",
        "\n",
        "      \n",
        "print(\"Done!\")"
      ],
      "metadata": {
        "colab": {
          "base_uri": "https://localhost:8080/"
        },
        "id": "wOMfRqx0-YUD",
        "outputId": "96b12b14-bb68-4177-9023-3f63fdc39206"
      },
      "execution_count": 88,
      "outputs": [
        {
          "output_type": "stream",
          "name": "stdout",
          "text": [
            "Epoch 1\n",
            "-------------------------------\n",
            "loss: 2.357162  [    0/77319]\n",
            "loss: 1.847415  [ 6400/77319]\n",
            "loss: 1.452013  [12800/77319]\n",
            "loss: 1.795703  [19200/77319]\n",
            "loss: 1.258586  [25600/77319]\n",
            "loss: 1.345260  [32000/77319]\n",
            "loss: 1.213656  [38400/77319]\n",
            "loss: 1.316798  [44800/77319]\n",
            "loss: 1.385175  [51200/77319]\n",
            "loss: 1.017192  [57600/77319]\n",
            "loss: 1.399873  [64000/77319]\n",
            "loss: 1.330047  [70400/77319]\n",
            "loss: 1.067568  [76800/77319]\n",
            "Test Error: \n",
            " Accuracy: 63.8%, Avg loss: 1.064743 \n",
            "\n",
            "Epoch 2\n",
            "-------------------------------\n",
            "loss: 0.645598  [    0/77319]\n",
            "loss: 0.865569  [ 6400/77319]\n",
            "loss: 0.542449  [12800/77319]\n",
            "loss: 0.840033  [19200/77319]\n",
            "loss: 0.996147  [25600/77319]\n",
            "loss: 0.939151  [32000/77319]\n",
            "loss: 0.821114  [38400/77319]\n",
            "loss: 0.762390  [44800/77319]\n",
            "loss: 0.849673  [51200/77319]\n",
            "loss: 0.852582  [57600/77319]\n",
            "loss: 0.718231  [64000/77319]\n",
            "loss: 0.636364  [70400/77319]\n",
            "loss: 0.937083  [76800/77319]\n",
            "Test Error: \n",
            " Accuracy: 67.1%, Avg loss: 1.032046 \n",
            "\n",
            "Done!\n"
          ]
        }
      ]
    },
    {
      "cell_type": "markdown",
      "source": [
        "#Download The Best Fine Tuned Model (Trained With ADAM)\n",
        "If you don't have time for training, you can run this section."
      ],
      "metadata": {
        "id": "Xf2T0BQ_Gx6p"
      }
    },
    {
      "cell_type": "code",
      "source": [
        "!gdown 1-CoxILLjpfJLEI6Ld3nECLsfr3qJDaUj"
      ],
      "metadata": {
        "id": "pO0s_SPIGx6w"
      },
      "execution_count": null,
      "outputs": []
    },
    {
      "cell_type": "markdown",
      "metadata": {
        "id": "2zM4KptYGx6x"
      },
      "source": [
        "##Acuuracy,Loss, micro F1 Score & Confusion Matrix of Test Data On  Fine Tuned Model (Trained With ADAM)##"
      ]
    },
    {
      "cell_type": "code",
      "source": [
        "model_fine_tuned = torch.load('/content/ model_fine_tuned.pth')"
      ],
      "metadata": {
        "id": "xW5RGGBjGx6x"
      },
      "execution_count": null,
      "outputs": []
    },
    {
      "cell_type": "code",
      "source": [
        "from sklearn.metrics import confusion_matrix\n",
        "from sklearn.metrics import f1_score\n",
        "import seaborn as sn\n",
        "import pandas as pd\n",
        "import matplotlib.pyplot as plt\n",
        "def fine_tuned_test_condition(dataloader, model):\n",
        "         pred_list=[]\n",
        "         true_list=[]\n",
        "         with torch.no_grad():\n",
        "          for data in dataloader:\n",
        "              input_ids = data[0].to(device)\n",
        "              input_mask = data[1].to(device)\n",
        "              labels = data[2].to(device)\n",
        "              input_ids = input_ids.to(device)\n",
        "              input_mask = input_mask.to(device)\n",
        "              labels = labels.to(device)\n",
        "              pred = model(input_ids, \n",
        "                    token_type_ids=None, \n",
        "                    attention_mask=input_mask, \n",
        "                    labels=labels).logits\n",
        "\n",
        "              pred_list.extend(pred.argmax(1).flatten().data.cpu().numpy())\n",
        "              true_list.extend(labels.flatten().data.cpu().numpy())\n",
        "          return  true_list, pred_list\n",
        "true_list, pred_list =fine_tuned_test_condition(test_dataloader, model_fine_tuned)"
      ],
      "metadata": {
        "id": "47NwAbD5Gx6x"
      },
      "execution_count": 89,
      "outputs": []
    },
    {
      "cell_type": "code",
      "source": [
        "test_accuracy_loss = fine_tuned_test_loop(test_dataloader, model_fine_tuned, loss_fn)\n",
        "print(f\"Accuracy of Test Set On Fine Tuned Model(Trained With ADAM) Is:{test_accuracy_loss[0]}\")\n",
        "print(f\"Loss of Test Set On Fine Tuned Model(Trained With ADAM) Is:{test_accuracy_loss[1]}\")"
      ],
      "metadata": {
        "colab": {
          "base_uri": "https://localhost:8080/"
        },
        "outputId": "9a6964c4-8c3e-4b4b-e04b-e591f84bc514",
        "id": "hWAiGzhiGx6x"
      },
      "execution_count": 90,
      "outputs": [
        {
          "output_type": "stream",
          "name": "stdout",
          "text": [
            "Test Error: \n",
            " Accuracy: 66.9%, Avg loss: 1.055183 \n",
            "\n",
            "Accuracy of Test Set On Fine Tuned Model(Trained With ADAM) Is:0.6692618745850685\n",
            "Loss of Test Set On Fine Tuned Model(Trained With ADAM) Is:1.0551828044721978\n"
          ]
        }
      ]
    },
    {
      "cell_type": "code",
      "source": [
        "print(f\"micro F1 Score of Test Set On Fine Tuned Model(Trained With ADAM) Is:{f1_score(true_list, pred_list, average='micro')}\")"
      ],
      "metadata": {
        "colab": {
          "base_uri": "https://localhost:8080/"
        },
        "outputId": "939b4cfe-824e-46e1-c0ad-c016ae382509",
        "id": "oOwhTOHCGx6y"
      },
      "execution_count": 91,
      "outputs": [
        {
          "output_type": "stream",
          "name": "stdout",
          "text": [
            "micro F1 Score of Test Set On Fine Tuned Model(Trained With ADAM) Is:0.6692618745850685\n"
          ]
        }
      ]
    },
    {
      "cell_type": "code",
      "execution_count": 92,
      "metadata": {
        "colab": {
          "base_uri": "https://localhost:8080/",
          "height": 446
        },
        "outputId": "0e89f6e2-d962-4ada-e843-aee00013b581",
        "id": "Mp41Gb23Gx6y"
      },
      "outputs": [
        {
          "output_type": "execute_result",
          "data": {
            "text/plain": [
              "<matplotlib.axes._subplots.AxesSubplot at 0x7f112e80b550>"
            ]
          },
          "metadata": {},
          "execution_count": 92
        },
        {
          "output_type": "display_data",
          "data": {
            "text/plain": [
              "<Figure size 864x504 with 2 Axes>"
            ],
            "image/png": "[encoded data removed]"
          },
          "metadata": {
            "needs_background": "light"
          }
        }
      ],
      "source": [
        "cf_matrix = confusion_matrix(true_list, pred_list)\n",
        "df_cm = pd.DataFrame(cf_matrix, index = my_poets,columns = my_poets)\n",
        "plt.figure(figsize = (12,7))\n",
        "sn.heatmap(df_cm, annot=True)\n"
      ]
    },
    {
      "cell_type": "code",
      "source": [
        "def sgd_fine_tuned_train_loop(dataloader, model, loss_fn, optimizer):\n",
        "    size = len(dataloader.dataset)\n",
        "    for batch, data in enumerate(dataloader):\n",
        "        input_ids = data[0].to(device)\n",
        "        input_mask = data[1].to(device)\n",
        "        labels = data[2].to(device)\n",
        "        input_ids = input_ids.to(device)\n",
        "        input_mask = input_mask.to(device)\n",
        "        labels = labels.to(device)\n",
        "        model.train()\n",
        "\n",
        "        loss = model(input_ids, \n",
        "                    token_type_ids=None, \n",
        "                    attention_mask=input_mask, \n",
        "                    labels=labels).loss\n",
        "        # Backpropagation\n",
        "        optimizer.zero_grad()\n",
        "        loss.backward()\n",
        "        torch.nn.utils.clip_grad_norm_(model.parameters(), 1.0)\n",
        "        optimizer.step()\n",
        "        if batch % 100 == 0:\n",
        "            loss, current = loss.item(), batch * len(input_ids)\n",
        "            print(f\"loss: {loss:>7f}  [{current:>5d}/{size:>5d}]\")"
      ],
      "metadata": {
        "id": "WizztSfiRq4r"
      },
      "execution_count": 75,
      "outputs": []
    },
    {
      "cell_type": "markdown",
      "source": [
        "#Training Fine Tuned Model With SGD#"
      ],
      "metadata": {
        "id": "REfxhdsgRq4z"
      }
    },
    {
      "cell_type": "code",
      "source": [
        "sgd_model_fine_tuned = BertForSequenceClassification.from_pretrained(\n",
        "    \"HooshvareLab/bert-fa-base-uncased\", \n",
        "    num_labels = 10, \n",
        "    output_attentions = False, \n",
        "    output_hidden_states = False)\n",
        "sgd_model_fine_tuned.to(device)\n",
        "loss_fn = nn.CrossEntropyLoss()\n",
        "epochs = 2\n",
        "optimizer = torch.optim.SGD(sgd_model_fine_tuned.parameters(), lr = 1e-2) \n",
        "val_accuracy = []\n",
        "for t in range(epochs):\n",
        "    print(f\"Epoch {t+1}\\n-------------------------------\")\n",
        "    sgd_fine_tuned_train_loop(train_dataloader,sgd_model_fine_tuned, loss_fn, optimizer)\n",
        "    val_accuracy.append(fine_tuned_test_loop(val_dataloader, sgd_model_fine_tuned, loss_fn)[0])\n",
        "    if np.argmax(val_accuracy) ==len(val_accuracy)-1:\n",
        "      torch.save(sgd_model_fine_tuned,' sgd_model_fine_tuned.pth')\n",
        "\n",
        "print(\"Done!\")"
      ],
      "metadata": {
        "colab": {
          "base_uri": "https://localhost:8080/"
        },
        "outputId": "9ed2893c-da3b-4963-e91d-f493258a225a",
        "id": "Lp5hvpggRq40"
      },
      "execution_count": 76,
      "outputs": [
        {
          "output_type": "stream",
          "name": "stderr",
          "text": [
            "Some weights of the model checkpoint at HooshvareLab/bert-fa-base-uncased were not used when initializing BertForSequenceClassification: ['cls.predictions.transform.LayerNorm.bias', 'cls.predictions.transform.LayerNorm.weight', 'cls.seq_relationship.weight', 'cls.predictions.decoder.bias', 'cls.predictions.transform.dense.weight', 'cls.predictions.decoder.weight', 'cls.predictions.transform.dense.bias', 'cls.predictions.bias', 'cls.seq_relationship.bias']\n",
            "- This IS expected if you are initializing BertForSequenceClassification from the checkpoint of a model trained on another task or with another architecture (e.g. initializing a BertForSequenceClassification model from a BertForPreTraining model).\n",
            "- This IS NOT expected if you are initializing BertForSequenceClassification from the checkpoint of a model that you expect to be exactly identical (initializing a BertForSequenceClassification model from a BertForSequenceClassification model).\n",
            "Some weights of BertForSequenceClassification were not initialized from the model checkpoint at HooshvareLab/bert-fa-base-uncased and are newly initialized: ['classifier.bias', 'classifier.weight']\n",
            "You should probably TRAIN this model on a down-stream task to be able to use it for predictions and inference.\n"
          ]
        },
        {
          "output_type": "stream",
          "name": "stdout",
          "text": [
            "Epoch 1\n",
            "-------------------------------\n",
            "loss: 2.368702  [    0/77319]\n",
            "loss: 2.263931  [ 6400/77319]\n",
            "loss: 2.247746  [12800/77319]\n",
            "loss: 2.194960  [19200/77319]\n",
            "loss: 2.167892  [25600/77319]\n",
            "loss: 2.094162  [32000/77319]\n",
            "loss: 1.983481  [38400/77319]\n",
            "loss: 2.095783  [44800/77319]\n",
            "loss: 1.917590  [51200/77319]\n",
            "loss: 1.803565  [57600/77319]\n",
            "loss: 2.030727  [64000/77319]\n",
            "loss: 1.962251  [70400/77319]\n",
            "loss: 1.936428  [76800/77319]\n",
            "Test Error: \n",
            " Accuracy: 33.1%, Avg loss: 1.883281 \n",
            "\n",
            "Epoch 2\n",
            "-------------------------------\n",
            "loss: 1.992633  [    0/77319]\n",
            "loss: 1.852898  [ 6400/77319]\n",
            "loss: 1.774832  [12800/77319]\n",
            "loss: 1.881730  [19200/77319]\n",
            "loss: 1.977770  [25600/77319]\n",
            "loss: 1.890945  [32000/77319]\n",
            "loss: 1.788455  [38400/77319]\n",
            "loss: 1.912020  [44800/77319]\n",
            "loss: 1.826871  [51200/77319]\n",
            "loss: 1.843800  [57600/77319]\n",
            "loss: 1.814231  [64000/77319]\n",
            "loss: 1.906151  [70400/77319]\n",
            "loss: 1.847154  [76800/77319]\n",
            "Test Error: \n",
            " Accuracy: 38.0%, Avg loss: 1.758521 \n",
            "\n",
            "Done!\n"
          ]
        }
      ]
    },
    {
      "cell_type": "markdown",
      "source": [
        "#Download The Best Fine Tuned Model (Trained With SGD)\n",
        "If you don't have time for training, you can run this section."
      ],
      "metadata": {
        "id": "qljaYVroRq40"
      }
    },
    {
      "cell_type": "code",
      "source": [
        "!gdown 1-RoxJgD_4Bo-g4xNYnxeA7yQ-un4lnY2"
      ],
      "metadata": {
        "id": "kMtnZmXWRq40"
      },
      "execution_count": null,
      "outputs": []
    },
    {
      "cell_type": "markdown",
      "metadata": {
        "id": "Qfg5XJcERq41"
      },
      "source": [
        "##Acuuracy,Loss, micro F1 Score & Confusion Matrix of Test Data On  Fine Tuned Model (Trained With SGD)##"
      ]
    },
    {
      "cell_type": "code",
      "source": [
        "sgd_model_fine_tuned = torch.load('/content/ sgd_model_fine_tuned.pth')"
      ],
      "metadata": {
        "id": "qzQ7z-0MRq41"
      },
      "execution_count": null,
      "outputs": []
    },
    {
      "cell_type": "code",
      "source": [
        "true_list, pred_list =fine_tuned_test_condition(test_dataloader, sgd_model_fine_tuned)"
      ],
      "metadata": {
        "id": "XcXQN0njRq41"
      },
      "execution_count": 77,
      "outputs": []
    },
    {
      "cell_type": "code",
      "source": [
        "test_accuracy_loss = fine_tuned_test_loop(test_dataloader, sgd_model_fine_tuned, loss_fn)\n",
        "print(f\"Accuracy of Test Set On Fine Tuned Model(Trained With SGD) Is:{test_accuracy_loss[0]}\")\n",
        "print(f\"Loss of Test Set On Fine Tuned Model(Trained With SGD) Is:{test_accuracy_loss[1]}\")"
      ],
      "metadata": {
        "colab": {
          "base_uri": "https://localhost:8080/"
        },
        "outputId": "bcb38a8f-ad89-4bf0-c8b8-e142cf6ee0b7",
        "id": "vwrmkh8ORq41"
      },
      "execution_count": 79,
      "outputs": [
        {
          "output_type": "stream",
          "name": "stdout",
          "text": [
            "Test Error: \n",
            " Accuracy: 38.4%, Avg loss: 1.754869 \n",
            "\n",
            "Accuracy of Test Set On Fine Tuned Model(Trained With SGD) Is:0.3837890035608667\n",
            "Loss of Test Set On Fine Tuned Model(Trained With SGD) Is:1.754869125524543\n"
          ]
        }
      ]
    },
    {
      "cell_type": "code",
      "source": [
        "print(f\"micro F1 Score of Test Set On Fine Tuned Model(Trained With SGD) Is:{f1_score(true_list, pred_list, average='micro')}\")"
      ],
      "metadata": {
        "colab": {
          "base_uri": "https://localhost:8080/"
        },
        "outputId": "36ce999e-89bb-444f-c568-c58443448400",
        "id": "W5KQJcuiRq41"
      },
      "execution_count": 80,
      "outputs": [
        {
          "output_type": "stream",
          "name": "stdout",
          "text": [
            "micro F1 Score of Test Set On Fine Tuned Model(Trained With SGD) Is:0.38378900356086676\n"
          ]
        }
      ]
    },
    {
      "cell_type": "code",
      "execution_count": 81,
      "metadata": {
        "colab": {
          "base_uri": "https://localhost:8080/",
          "height": 445
        },
        "outputId": "e800f2bf-fb36-4a08-f27d-2e0e9457cdd4",
        "id": "U09JbPW2Rq42"
      },
      "outputs": [
        {
          "output_type": "execute_result",
          "data": {
            "text/plain": [
              "<matplotlib.axes._subplots.AxesSubplot at 0x7f103e6539a0>"
            ]
          },
          "metadata": {},
          "execution_count": 81
        },
        {
          "output_type": "display_data",
          "data": {
            "text/plain": [
              "<Figure size 864x504 with 2 Axes>"
            ],
            "image/png": "[encoded data removed]"
          },
          "metadata": {
            "needs_background": "light"
          }
        }
      ],
      "source": [
        "cf_matrix = confusion_matrix(true_list, pred_list)\n",
        "df_cm = pd.DataFrame(cf_matrix, index = my_poets,columns = my_poets)\n",
        "plt.figure(figsize = (12,7))\n",
        "sn.heatmap(df_cm, annot=True)\n"
      ]
    },
    {
      "cell_type": "markdown",
      "source": [
        "#Perpelixity#"
      ],
      "metadata": {
        "id": "R6fM-8zBZbtO"
      }
    },
    {
      "cell_type": "code",
      "source": [
        "import gc\n",
        "del sgd_model_fine_tuned\n",
        "gc.collect()##delete the useless model "
      ],
      "metadata": {
        "id": "HXPah0rH3OnD"
      },
      "execution_count": null,
      "outputs": []
    },
    {
      "cell_type": "code",
      "source": [
        "from transformers import AutoConfig, AutoTokenizer, AutoModel\n",
        "from transformers import AutoModelForMaskedLM, AutoTokenizer\n",
        "import torch\n",
        "import numpy as np\n",
        "\n",
        "from transformers import AutoConfig, AutoTokenizer, AutoModel\n",
        "\n",
        "config = AutoConfig.from_pretrained(\"HooshvareLab/bert-fa-base-uncased\")\n",
        "tokenizer = AutoTokenizer.from_pretrained(\"HooshvareLab/bert-fa-base-uncased\")\n",
        "\n",
        "config = AutoConfig.from_pretrained(\"HooshvareLab/bert-fa-base-uncased\")\n",
        "tokenizer = AutoTokenizer.from_pretrained(\"HooshvareLab/bert-fa-base-uncased\")"
      ],
      "metadata": {
        "colab": {
          "base_uri": "https://localhost:8080/",
          "height": 81,
          "referenced_widgets": [
            "013bab335ebc45d781d4451cc87179d7",
            "75f485716f6a463c85137549a58a7680",
            "c9797bae3f4f44869b43a17d7966afee",
            "b1f4b34c7f784ffca0d7509eb65c2673",
            "fb6e293d18be41149d440396443dd7bb",
            "0a90a0e6d5604b4ea6f9e4a905b607c5",
            "b2703e8379d34a8189d3a3dce26a7d62",
            "ffa56d851ab542088c113d6a75006e60",
            "b92f2899fe604f1d8c02b3cf7bf36c21",
            "6180841bf3d74ce8a74cd8813bb03d82",
            "8c2abfef10914212aef0f1e71e3dee0a",
            "e46a61305af145dfa0961bf3e76f16db",
            "6c294f3fb98444d69628964a8ffbbf71",
            "4603ca5a3c004e82ba6cd8326ca80fd7",
            "1b60190cd7254ba1a045e7c850702bc0",
            "2b4974436b7d4526a42da170791981d2",
            "982e62081bc44af98b1ca62a0859ba54",
            "6d9ddb15f43340acbc32ce9eb4c2da53",
            "4ee98eb481f04be5960c00d4dad203b8",
            "bb22d64393944a099d9b667df923db61",
            "0c2c5fd7bcb64d1292e0449a9413109f",
            "c5704db636e442478550494a80279fda"
          ]
        },
        "outputId": "bbb263a9-a5df-45e6-9806-086768991bea",
        "id": "DKKAK-WmfxVA"
      },
      "execution_count": null,
      "outputs": [
        {
          "output_type": "display_data",
          "data": {
            "text/plain": [
              "Downloading (…)lve/main/config.json:   0%|          | 0.00/440 [00:00<?, ?B/s]"
            ],
            "application/vnd.jupyter.widget-view+json": {
              "version_major": 2,
              "version_minor": 0,
              "model_id": "013bab335ebc45d781d4451cc87179d7"
            }
          },
          "metadata": {}
        },
        {
          "output_type": "display_data",
          "data": {
            "text/plain": [
              "Downloading (…)solve/main/vocab.txt:   0%|          | 0.00/1.20M [00:00<?, ?B/s]"
            ],
            "application/vnd.jupyter.widget-view+json": {
              "version_major": 2,
              "version_minor": 0,
              "model_id": "e46a61305af145dfa0961bf3e76f16db"
            }
          },
          "metadata": {}
        }
      ]
    },
    {
      "cell_type": "code",
      "source": [
        "from transformers import AutoModelForMaskedLM, AutoTokenizer\n",
        "import torch\n",
        "import numpy as np\n",
        "\n",
        "from transformers import AutoConfig, AutoTokenizer, AutoModel\n",
        "\n",
        "config = AutoConfig.from_pretrained(\"HooshvareLab/bert-fa-base-uncased\")\n",
        "tokenizer = AutoTokenizer.from_pretrained(\"HooshvareLab/bert-fa-base-uncased\")\n",
        "\n",
        "model_not_fine_tuned = BertForSequenceClassification.from_pretrained(\n",
        "    \"HooshvareLab/bert-fa-base-uncased\", \n",
        "    num_labels = 10, \n",
        "    output_attentions = False, \n",
        "    output_hidden_states = False)\n",
        "model_not_fine_tuned.to(device)\n",
        "        \n"
      ],
      "metadata": {
        "colab": {
          "base_uri": "https://localhost:8080/"
        },
        "id": "QjG47XnOjomK",
        "outputId": "93db5570-b968-49fc-a55e-72577f783620"
      },
      "execution_count": 117,
      "outputs": [
        {
          "output_type": "stream",
          "name": "stderr",
          "text": [
            "Some weights of the model checkpoint at HooshvareLab/bert-fa-base-uncased were not used when initializing BertForSequenceClassification: ['cls.predictions.transform.LayerNorm.bias', 'cls.predictions.transform.LayerNorm.weight', 'cls.seq_relationship.weight', 'cls.predictions.decoder.bias', 'cls.predictions.transform.dense.weight', 'cls.predictions.decoder.weight', 'cls.predictions.transform.dense.bias', 'cls.predictions.bias', 'cls.seq_relationship.bias']\n",
            "- This IS expected if you are initializing BertForSequenceClassification from the checkpoint of a model trained on another task or with another architecture (e.g. initializing a BertForSequenceClassification model from a BertForPreTraining model).\n",
            "- This IS NOT expected if you are initializing BertForSequenceClassification from the checkpoint of a model that you expect to be exactly identical (initializing a BertForSequenceClassification model from a BertForSequenceClassification model).\n",
            "Some weights of BertForSequenceClassification were not initialized from the model checkpoint at HooshvareLab/bert-fa-base-uncased and are newly initialized: ['classifier.bias', 'classifier.weight']\n",
            "You should probably TRAIN this model on a down-stream task to be able to use it for predictions and inference.\n"
          ]
        },
        {
          "output_type": "execute_result",
          "data": {
            "text/plain": [
              "BertForSequenceClassification(\n",
              "  (bert): BertModel(\n",
              "    (embeddings): BertEmbeddings(\n",
              "      (word_embeddings): Embedding(100000, 768, padding_idx=0)\n",
              "      (position_embeddings): Embedding(512, 768)\n",
              "      (token_type_embeddings): Embedding(2, 768)\n",
              "      (LayerNorm): LayerNorm((768,), eps=1e-12, elementwise_affine=True)\n",
              "      (dropout): Dropout(p=0.1, inplace=False)\n",
              "    )\n",
              "    (encoder): BertEncoder(\n",
              "      (layer): ModuleList(\n",
              "        (0): BertLayer(\n",
              "          (attention): BertAttention(\n",
              "            (self): BertSelfAttention(\n",
              "              (query): Linear(in_features=768, out_features=768, bias=True)\n",
              "              (key): Linear(in_features=768, out_features=768, bias=True)\n",
              "              (value): Linear(in_features=768, out_features=768, bias=True)\n",
              "              (dropout): Dropout(p=0.1, inplace=False)\n",
              "            )\n",
              "            (output): BertSelfOutput(\n",
              "              (dense): Linear(in_features=768, out_features=768, bias=True)\n",
              "              (LayerNorm): LayerNorm((768,), eps=1e-12, elementwise_affine=True)\n",
              "              (dropout): Dropout(p=0.1, inplace=False)\n",
              "            )\n",
              "          )\n",
              "          (intermediate): BertIntermediate(\n",
              "            (dense): Linear(in_features=768, out_features=3072, bias=True)\n",
              "            (intermediate_act_fn): GELUActivation()\n",
              "          )\n",
              "          (output): BertOutput(\n",
              "            (dense): Linear(in_features=3072, out_features=768, bias=True)\n",
              "            (LayerNorm): LayerNorm((768,), eps=1e-12, elementwise_affine=True)\n",
              "            (dropout): Dropout(p=0.1, inplace=False)\n",
              "          )\n",
              "        )\n",
              "        (1): BertLayer(\n",
              "          (attention): BertAttention(\n",
              "            (self): BertSelfAttention(\n",
              "              (query): Linear(in_features=768, out_features=768, bias=True)\n",
              "              (key): Linear(in_features=768, out_features=768, bias=True)\n",
              "              (value): Linear(in_features=768, out_features=768, bias=True)\n",
              "              (dropout): Dropout(p=0.1, inplace=False)\n",
              "            )\n",
              "            (output): BertSelfOutput(\n",
              "              (dense): Linear(in_features=768, out_features=768, bias=True)\n",
              "              (LayerNorm): LayerNorm((768,), eps=1e-12, elementwise_affine=True)\n",
              "              (dropout): Dropout(p=0.1, inplace=False)\n",
              "            )\n",
              "          )\n",
              "          (intermediate): BertIntermediate(\n",
              "            (dense): Linear(in_features=768, out_features=3072, bias=True)\n",
              "            (intermediate_act_fn): GELUActivation()\n",
              "          )\n",
              "          (output): BertOutput(\n",
              "            (dense): Linear(in_features=3072, out_features=768, bias=True)\n",
              "            (LayerNorm): LayerNorm((768,), eps=1e-12, elementwise_affine=True)\n",
              "            (dropout): Dropout(p=0.1, inplace=False)\n",
              "          )\n",
              "        )\n",
              "        (2): BertLayer(\n",
              "          (attention): BertAttention(\n",
              "            (self): BertSelfAttention(\n",
              "              (query): Linear(in_features=768, out_features=768, bias=True)\n",
              "              (key): Linear(in_features=768, out_features=768, bias=True)\n",
              "              (value): Linear(in_features=768, out_features=768, bias=True)\n",
              "              (dropout): Dropout(p=0.1, inplace=False)\n",
              "            )\n",
              "            (output): BertSelfOutput(\n",
              "              (dense): Linear(in_features=768, out_features=768, bias=True)\n",
              "              (LayerNorm): LayerNorm((768,), eps=1e-12, elementwise_affine=True)\n",
              "              (dropout): Dropout(p=0.1, inplace=False)\n",
              "            )\n",
              "          )\n",
              "          (intermediate): BertIntermediate(\n",
              "            (dense): Linear(in_features=768, out_features=3072, bias=True)\n",
              "            (intermediate_act_fn): GELUActivation()\n",
              "          )\n",
              "          (output): BertOutput(\n",
              "            (dense): Linear(in_features=3072, out_features=768, bias=True)\n",
              "            (LayerNorm): LayerNorm((768,), eps=1e-12, elementwise_affine=True)\n",
              "            (dropout): Dropout(p=0.1, inplace=False)\n",
              "          )\n",
              "        )\n",
              "        (3): BertLayer(\n",
              "          (attention): BertAttention(\n",
              "            (self): BertSelfAttention(\n",
              "              (query): Linear(in_features=768, out_features=768, bias=True)\n",
              "              (key): Linear(in_features=768, out_features=768, bias=True)\n",
              "              (value): Linear(in_features=768, out_features=768, bias=True)\n",
              "              (dropout): Dropout(p=0.1, inplace=False)\n",
              "            )\n",
              "            (output): BertSelfOutput(\n",
              "              (dense): Linear(in_features=768, out_features=768, bias=True)\n",
              "              (LayerNorm): LayerNorm((768,), eps=1e-12, elementwise_affine=True)\n",
              "              (dropout): Dropout(p=0.1, inplace=False)\n",
              "            )\n",
              "          )\n",
              "          (intermediate): BertIntermediate(\n",
              "            (dense): Linear(in_features=768, out_features=3072, bias=True)\n",
              "            (intermediate_act_fn): GELUActivation()\n",
              "          )\n",
              "          (output): BertOutput(\n",
              "            (dense): Linear(in_features=3072, out_features=768, bias=True)\n",
              "            (LayerNorm): LayerNorm((768,), eps=1e-12, elementwise_affine=True)\n",
              "            (dropout): Dropout(p=0.1, inplace=False)\n",
              "          )\n",
              "        )\n",
              "        (4): BertLayer(\n",
              "          (attention): BertAttention(\n",
              "            (self): BertSelfAttention(\n",
              "              (query): Linear(in_features=768, out_features=768, bias=True)\n",
              "              (key): Linear(in_features=768, out_features=768, bias=True)\n",
              "              (value): Linear(in_features=768, out_features=768, bias=True)\n",
              "              (dropout): Dropout(p=0.1, inplace=False)\n",
              "            )\n",
              "            (output): BertSelfOutput(\n",
              "              (dense): Linear(in_features=768, out_features=768, bias=True)\n",
              "              (LayerNorm): LayerNorm((768,), eps=1e-12, elementwise_affine=True)\n",
              "              (dropout): Dropout(p=0.1, inplace=False)\n",
              "            )\n",
              "          )\n",
              "          (intermediate): BertIntermediate(\n",
              "            (dense): Linear(in_features=768, out_features=3072, bias=True)\n",
              "            (intermediate_act_fn): GELUActivation()\n",
              "          )\n",
              "          (output): BertOutput(\n",
              "            (dense): Linear(in_features=3072, out_features=768, bias=True)\n",
              "            (LayerNorm): LayerNorm((768,), eps=1e-12, elementwise_affine=True)\n",
              "            (dropout): Dropout(p=0.1, inplace=False)\n",
              "          )\n",
              "        )\n",
              "        (5): BertLayer(\n",
              "          (attention): BertAttention(\n",
              "            (self): BertSelfAttention(\n",
              "              (query): Linear(in_features=768, out_features=768, bias=True)\n",
              "              (key): Linear(in_features=768, out_features=768, bias=True)\n",
              "              (value): Linear(in_features=768, out_features=768, bias=True)\n",
              "              (dropout): Dropout(p=0.1, inplace=False)\n",
              "            )\n",
              "            (output): BertSelfOutput(\n",
              "              (dense): Linear(in_features=768, out_features=768, bias=True)\n",
              "              (LayerNorm): LayerNorm((768,), eps=1e-12, elementwise_affine=True)\n",
              "              (dropout): Dropout(p=0.1, inplace=False)\n",
              "            )\n",
              "          )\n",
              "          (intermediate): BertIntermediate(\n",
              "            (dense): Linear(in_features=768, out_features=3072, bias=True)\n",
              "            (intermediate_act_fn): GELUActivation()\n",
              "          )\n",
              "          (output): BertOutput(\n",
              "            (dense): Linear(in_features=3072, out_features=768, bias=True)\n",
              "            (LayerNorm): LayerNorm((768,), eps=1e-12, elementwise_affine=True)\n",
              "            (dropout): Dropout(p=0.1, inplace=False)\n",
              "          )\n",
              "        )\n",
              "        (6): BertLayer(\n",
              "          (attention): BertAttention(\n",
              "            (self): BertSelfAttention(\n",
              "              (query): Linear(in_features=768, out_features=768, bias=True)\n",
              "              (key): Linear(in_features=768, out_features=768, bias=True)\n",
              "              (value): Linear(in_features=768, out_features=768, bias=True)\n",
              "              (dropout): Dropout(p=0.1, inplace=False)\n",
              "            )\n",
              "            (output): BertSelfOutput(\n",
              "              (dense): Linear(in_features=768, out_features=768, bias=True)\n",
              "              (LayerNorm): LayerNorm((768,), eps=1e-12, elementwise_affine=True)\n",
              "              (dropout): Dropout(p=0.1, inplace=False)\n",
              "            )\n",
              "          )\n",
              "          (intermediate): BertIntermediate(\n",
              "            (dense): Linear(in_features=768, out_features=3072, bias=True)\n",
              "            (intermediate_act_fn): GELUActivation()\n",
              "          )\n",
              "          (output): BertOutput(\n",
              "            (dense): Linear(in_features=3072, out_features=768, bias=True)\n",
              "            (LayerNorm): LayerNorm((768,), eps=1e-12, elementwise_affine=True)\n",
              "            (dropout): Dropout(p=0.1, inplace=False)\n",
              "          )\n",
              "        )\n",
              "        (7): BertLayer(\n",
              "          (attention): BertAttention(\n",
              "            (self): BertSelfAttention(\n",
              "              (query): Linear(in_features=768, out_features=768, bias=True)\n",
              "              (key): Linear(in_features=768, out_features=768, bias=True)\n",
              "              (value): Linear(in_features=768, out_features=768, bias=True)\n",
              "              (dropout): Dropout(p=0.1, inplace=False)\n",
              "            )\n",
              "            (output): BertSelfOutput(\n",
              "              (dense): Linear(in_features=768, out_features=768, bias=True)\n",
              "              (LayerNorm): LayerNorm((768,), eps=1e-12, elementwise_affine=True)\n",
              "              (dropout): Dropout(p=0.1, inplace=False)\n",
              "            )\n",
              "          )\n",
              "          (intermediate): BertIntermediate(\n",
              "            (dense): Linear(in_features=768, out_features=3072, bias=True)\n",
              "            (intermediate_act_fn): GELUActivation()\n",
              "          )\n",
              "          (output): BertOutput(\n",
              "            (dense): Linear(in_features=3072, out_features=768, bias=True)\n",
              "            (LayerNorm): LayerNorm((768,), eps=1e-12, elementwise_affine=True)\n",
              "            (dropout): Dropout(p=0.1, inplace=False)\n",
              "          )\n",
              "        )\n",
              "        (8): BertLayer(\n",
              "          (attention): BertAttention(\n",
              "            (self): BertSelfAttention(\n",
              "              (query): Linear(in_features=768, out_features=768, bias=True)\n",
              "              (key): Linear(in_features=768, out_features=768, bias=True)\n",
              "              (value): Linear(in_features=768, out_features=768, bias=True)\n",
              "              (dropout): Dropout(p=0.1, inplace=False)\n",
              "            )\n",
              "            (output): BertSelfOutput(\n",
              "              (dense): Linear(in_features=768, out_features=768, bias=True)\n",
              "              (LayerNorm): LayerNorm((768,), eps=1e-12, elementwise_affine=True)\n",
              "              (dropout): Dropout(p=0.1, inplace=False)\n",
              "            )\n",
              "          )\n",
              "          (intermediate): BertIntermediate(\n",
              "            (dense): Linear(in_features=768, out_features=3072, bias=True)\n",
              "            (intermediate_act_fn): GELUActivation()\n",
              "          )\n",
              "          (output): BertOutput(\n",
              "            (dense): Linear(in_features=3072, out_features=768, bias=True)\n",
              "            (LayerNorm): LayerNorm((768,), eps=1e-12, elementwise_affine=True)\n",
              "            (dropout): Dropout(p=0.1, inplace=False)\n",
              "          )\n",
              "        )\n",
              "        (9): BertLayer(\n",
              "          (attention): BertAttention(\n",
              "            (self): BertSelfAttention(\n",
              "              (query): Linear(in_features=768, out_features=768, bias=True)\n",
              "              (key): Linear(in_features=768, out_features=768, bias=True)\n",
              "              (value): Linear(in_features=768, out_features=768, bias=True)\n",
              "              (dropout): Dropout(p=0.1, inplace=False)\n",
              "            )\n",
              "            (output): BertSelfOutput(\n",
              "              (dense): Linear(in_features=768, out_features=768, bias=True)\n",
              "              (LayerNorm): LayerNorm((768,), eps=1e-12, elementwise_affine=True)\n",
              "              (dropout): Dropout(p=0.1, inplace=False)\n",
              "            )\n",
              "          )\n",
              "          (intermediate): BertIntermediate(\n",
              "            (dense): Linear(in_features=768, out_features=3072, bias=True)\n",
              "            (intermediate_act_fn): GELUActivation()\n",
              "          )\n",
              "          (output): BertOutput(\n",
              "            (dense): Linear(in_features=3072, out_features=768, bias=True)\n",
              "            (LayerNorm): LayerNorm((768,), eps=1e-12, elementwise_affine=True)\n",
              "            (dropout): Dropout(p=0.1, inplace=False)\n",
              "          )\n",
              "        )\n",
              "        (10): BertLayer(\n",
              "          (attention): BertAttention(\n",
              "            (self): BertSelfAttention(\n",
              "              (query): Linear(in_features=768, out_features=768, bias=True)\n",
              "              (key): Linear(in_features=768, out_features=768, bias=True)\n",
              "              (value): Linear(in_features=768, out_features=768, bias=True)\n",
              "              (dropout): Dropout(p=0.1, inplace=False)\n",
              "            )\n",
              "            (output): BertSelfOutput(\n",
              "              (dense): Linear(in_features=768, out_features=768, bias=True)\n",
              "              (LayerNorm): LayerNorm((768,), eps=1e-12, elementwise_affine=True)\n",
              "              (dropout): Dropout(p=0.1, inplace=False)\n",
              "            )\n",
              "          )\n",
              "          (intermediate): BertIntermediate(\n",
              "            (dense): Linear(in_features=768, out_features=3072, bias=True)\n",
              "            (intermediate_act_fn): GELUActivation()\n",
              "          )\n",
              "          (output): BertOutput(\n",
              "            (dense): Linear(in_features=3072, out_features=768, bias=True)\n",
              "            (LayerNorm): LayerNorm((768,), eps=1e-12, elementwise_affine=True)\n",
              "            (dropout): Dropout(p=0.1, inplace=False)\n",
              "          )\n",
              "        )\n",
              "        (11): BertLayer(\n",
              "          (attention): BertAttention(\n",
              "            (self): BertSelfAttention(\n",
              "              (query): Linear(in_features=768, out_features=768, bias=True)\n",
              "              (key): Linear(in_features=768, out_features=768, bias=True)\n",
              "              (value): Linear(in_features=768, out_features=768, bias=True)\n",
              "              (dropout): Dropout(p=0.1, inplace=False)\n",
              "            )\n",
              "            (output): BertSelfOutput(\n",
              "              (dense): Linear(in_features=768, out_features=768, bias=True)\n",
              "              (LayerNorm): LayerNorm((768,), eps=1e-12, elementwise_affine=True)\n",
              "              (dropout): Dropout(p=0.1, inplace=False)\n",
              "            )\n",
              "          )\n",
              "          (intermediate): BertIntermediate(\n",
              "            (dense): Linear(in_features=768, out_features=3072, bias=True)\n",
              "            (intermediate_act_fn): GELUActivation()\n",
              "          )\n",
              "          (output): BertOutput(\n",
              "            (dense): Linear(in_features=3072, out_features=768, bias=True)\n",
              "            (LayerNorm): LayerNorm((768,), eps=1e-12, elementwise_affine=True)\n",
              "            (dropout): Dropout(p=0.1, inplace=False)\n",
              "          )\n",
              "        )\n",
              "      )\n",
              "    )\n",
              "    (pooler): BertPooler(\n",
              "      (dense): Linear(in_features=768, out_features=768, bias=True)\n",
              "      (activation): Tanh()\n",
              "    )\n",
              "  )\n",
              "  (dropout): Dropout(p=0.1, inplace=False)\n",
              "  (classifier): Linear(in_features=768, out_features=10, bias=True)\n",
              ")"
            ]
          },
          "metadata": {},
          "execution_count": 117
        }
      ]
    },
    {
      "cell_type": "code",
      "source": [
        "def score(model, tokenizer, sentence,labels):\n",
        "    encoded_dict = tokenizer.encode_plus(\n",
        "                            sentence,                      \n",
        "                            add_special_tokens = True, \n",
        "                            max_length = max_verse_length ,    \n",
        "                            pad_to_max_length = True,\n",
        "                            return_attention_mask = True, \n",
        "                            return_tensors = 'pt',   \n",
        "                    )\n",
        "    input_ids= encoded_dict['input_ids']\n",
        "    input_mask = encoded_dict['attention_mask']\n",
        "\n",
        "    model.eval()\n",
        "    input_ids = input_ids.to(device)\n",
        "    input_mask = input_mask.to(device)\n",
        "    labels = labels.to(device)\n",
        "    loss = model(input_ids, \n",
        "                    token_type_ids=None, \n",
        "                    attention_mask=input_mask, \n",
        "                    labels=labels).loss\n",
        "    return torch.exp(loss).item()\n",
        "score(model_not_fine_tuned,tokenizer,my_poems_df_list[0][0],torch.tensor([[0]]))"
      ],
      "metadata": {
        "colab": {
          "base_uri": "https://localhost:8080/"
        },
        "id": "i_lx8u_ltaWy",
        "outputId": "a7da1f74-34a1-4cd1-f0d7-67155db376f0"
      },
      "execution_count": 123,
      "outputs": [
        {
          "output_type": "execute_result",
          "data": {
            "text/plain": [
              "16.96600914001465"
            ]
          },
          "metadata": {},
          "execution_count": 123
        }
      ]
    },
    {
      "cell_type": "code",
      "source": [
        "model_not_fine_tuned_perplexity = 1\n",
        "model_fine_tuned_perplexity = 1\n",
        "for i in range(1000):\n",
        "  label = torch.randint(len(my_poems_df_list), (1,)).item()\n",
        "  my_poem_df = my_poems_df_list[label]\n",
        "  my_verse = my_poem_df[torch.randint(len(my_poem_df), (1,)).item()]\n",
        "  model_not_fine_tuned_perplexity = model_not_fine_tuned_perplexity * pow(score(model_not_fine_tuned,tokenizer, my_verse,torch.tensor([[label]])), 0.001)\n",
        "  model_fine_tuned_perplexity = model_fine_tuned_perplexity * pow(score(model_fine_tuned,tokenizer, my_verse,torch.tensor([[label]])), 0.001)\n"
      ],
      "metadata": {
        "id": "WyfxvDCvzGZt"
      },
      "execution_count": 124,
      "outputs": []
    },
    {
      "cell_type": "code",
      "source": [
        "print(f'The Fine Tuned Model Perpelixity Is :{model_fine_tuned_perplexity}')\n",
        "print(f'The Model Without Fine Tunning Perpelixity Is :{model_not_fine_tuned_perplexity}')"
      ],
      "metadata": {
        "colab": {
          "base_uri": "https://localhost:8080/"
        },
        "id": "B8IbUKq217bX",
        "outputId": "2a7ec445-c625-4bbb-97a9-56d877412f83"
      },
      "execution_count": 125,
      "outputs": [
        {
          "output_type": "stream",
          "name": "stdout",
          "text": [
            "The Fine Tuned Model Perpelixity Is :1.8863775656585358\n",
            "The Model Without Fine Tunning Perpelixity Is :10.154854572930079\n"
          ]
        }
      ]
    },
    {
      "cell_type": "markdown",
      "source": [
        "**So, the fine tuned model works better because of lower perpelexity.**"
      ],
      "metadata": {
        "id": "9vdsc63Y3plS"
      }
    }
  ]
}